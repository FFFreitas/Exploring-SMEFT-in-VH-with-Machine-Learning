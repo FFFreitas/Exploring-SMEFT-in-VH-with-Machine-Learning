{
 "cells": [
  {
   "cell_type": "code",
   "execution_count": null,
   "metadata": {},
   "outputs": [],
   "source": [
    "%matplotlib inline\n",
    "import numpy as np\n",
    "import glob\n",
    "import pandas as pd\n",
    "import matplotlib\n",
    "import matplotlib.pyplot as plt\n",
    "import random\n",
    "import os\n",
    "from sklearn.model_selection import train_test_split\n",
    "from sklearn.preprocessing import StandardScaler"
   ]
  },
  {
   "cell_type": "code",
   "execution_count": null,
   "metadata": {},
   "outputs": [],
   "source": [
    "from sklearn import preprocessing\n",
    "scale = StandardScaler()\n",
    "min_max_scaler = preprocessing.MinMaxScaler()\n",
    "def scaleColumns(df, cols_to_scale):\n",
    "    for col in cols_to_scale:\n",
    "        df[col] = pd.DataFrame(min_max_scaler.fit_transform(pd.DataFrame(df[col])),columns=[col])\n",
    "    return df"
   ]
  },
  {
   "cell_type": "markdown",
   "metadata": {},
   "source": [
    "# processing data for ZH 0L"
   ]
  },
  {
   "cell_type": "code",
   "execution_count": null,
   "metadata": {},
   "outputs": [],
   "source": [
    "list_0L = []\n",
    "for name in sorted(os.listdir('./charanjit_data/0L/inclusive/'),reverse=True):\n",
    "    filename = './charanjit_data/0L/inclusive/' + name\n",
    "    df = pd.read_csv(filename,sep='\\s+',engine='python')\n",
    "    list_0L.append(df)"
   ]
  },
  {
   "cell_type": "code",
   "execution_count": null,
   "metadata": {},
   "outputs": [],
   "source": [
    "sorted(os.listdir('./charanjit_data/0L/bsmlike/'),reverse=True)"
   ]
  },
  {
   "cell_type": "code",
   "execution_count": null,
   "metadata": {},
   "outputs": [],
   "source": [
    "zh_chw_0_df = pd.read_csv('./charanjit_data/0L/feb/feb-0l-BSMlike/zhsm0lTCfeb.csv', sep='\\s+', engine='python') #list_0L[0]\n",
    "zh_chw_0d001_df = pd.read_csv('./charanjit_data/0L/feb/feb-0L-inclusive/zh0p0010lfeb.csv', sep='\\s+', engine='python')\n",
    "zh_chw_0d01_df = list_0L[4]\n",
    "zh_chw_0d03_df = pd.read_csv('./charanjit_data/0L/feb/feb-0l-BSMlike/zh0p030lTCfeb.csv', sep='\\s+', engine='python') #list_0L[3]\n",
    "zh_chw_0d1_df = list_0L[1]\n",
    "zh_chw_1_df = list_0L[2]"
   ]
  },
  {
   "cell_type": "code",
   "execution_count": null,
   "metadata": {},
   "outputs": [],
   "source": [
    "zh_chw_0_df.head()"
   ]
  },
  {
   "cell_type": "code",
   "execution_count": null,
   "metadata": {},
   "outputs": [],
   "source": [
    "X_cHW_0d001 = pd.concat([zh_chw_0d001_df, zh_chw_0_df], ignore_index=True)\n",
    "X_cHW_0d01 = pd.concat([zh_chw_0d01_df, zh_chw_0_df], ignore_index=True)\n",
    "X_cHW_0d03 = pd.concat([zh_chw_0d03_df, zh_chw_0_df], ignore_index=True)\n",
    "X_cHW_0d1 = pd.concat([zh_chw_0d1_df, zh_chw_0_df], ignore_index=True)\n",
    "X_cHW_1 = pd.concat([zh_chw_1_df, zh_chw_0_df], ignore_index=True)"
   ]
  },
  {
   "cell_type": "code",
   "execution_count": null,
   "metadata": {},
   "outputs": [],
   "source": [
    "y_cHW_0d001 = X_cHW_0d001['signal']\n",
    "y_cHW_0d01 = X_cHW_0d01['signal']\n",
    "y_cHW_0d03 = X_cHW_0d03['signal']\n",
    "y_cHW_0d1 = X_cHW_0d1['signal']\n",
    "y_cHW_1 = X_cHW_1['signal']"
   ]
  },
  {
   "cell_type": "code",
   "execution_count": null,
   "metadata": {},
   "outputs": [],
   "source": [
    "X_cHW_0d01.keys()"
   ]
  },
  {
   "cell_type": "code",
   "execution_count": null,
   "metadata": {},
   "outputs": [],
   "source": [
    "for i in [X_cHW_0d001, X_cHW_0d01, X_cHW_0d03, X_cHW_0d1, X_cHW_1]:\n",
    "    i = scaleColumns(i,['ptb1', 'ptb2', 'misset', \n",
    "                        'pth', 'ptz', 'etah', \n",
    "                        'phih', 'mtvh', 'ptvh',\n",
    "                        'dphib1met'])"
   ]
  },
  {
   "cell_type": "code",
   "execution_count": null,
   "metadata": {},
   "outputs": [],
   "source": [
    "for i in [X_cHW_0d001, X_cHW_0d01, X_cHW_0d03, X_cHW_0d1, X_cHW_1]:\n",
    "    i.drop(['signal'], axis=1, inplace=True)"
   ]
  },
  {
   "cell_type": "code",
   "execution_count": null,
   "metadata": {},
   "outputs": [],
   "source": [
    "X_cHW_0d03.shape, y_cHW_0d03.shape"
   ]
  },
  {
   "cell_type": "code",
   "execution_count": null,
   "metadata": {},
   "outputs": [],
   "source": [
    "X_train_cHW_0d001, X_test_cHW_0d001, y_train_cHW_0d001, y_test_cHW_0d001 = \\\n",
    "train_test_split(X_cHW_0d001, y_cHW_0d001, train_size=0.8, test_size=0.2)\n",
    "\n",
    "X_train_cHW_0d01, X_test_cHW_0d01, y_train_cHW_0d01, y_test_cHW_0d01 = \\\n",
    "train_test_split(X_cHW_0d01, y_cHW_0d01, train_size=0.8, test_size=0.2)\n",
    "\n",
    "X_train_cHW_0d03, X_test_cHW_0d03, y_train_cHW_0d03, y_test_cHW_0d03 = \\\n",
    "train_test_split(X_cHW_0d03, y_cHW_0d03, train_size=0.8, test_size=0.2)\n",
    "\n",
    "X_train_cHW_0d1, X_test_cHW_0d1, y_train_cHW_0d1, y_test_cHW_0d1 = \\\n",
    "train_test_split(X_cHW_0d1, y_cHW_0d1, train_size=0.8, test_size=0.2)\n",
    "\n",
    "X_train_cHW_1, X_test_cHW_1, y_train_cHW_1, y_test_cHW_1 = \\\n",
    "train_test_split(X_cHW_1, y_cHW_1, train_size=0.8, test_size=0.2)"
   ]
  },
  {
   "cell_type": "code",
   "execution_count": null,
   "metadata": {},
   "outputs": [],
   "source": [
    "#np.savez('./charanjit_data/0L/bsmlike_processed/X_train_0L_cHW_0d001.npz', x=X_train_cHW_0d001, y=y_train_cHW_0d001)\n",
    "np.savez('./charanjit_data/0L/bsmlike_processed/X_train_0L_cHW_0d03.npz', x=X_train_cHW_0d03, y=y_train_cHW_0d03)"
   ]
  },
  {
   "cell_type": "code",
   "execution_count": null,
   "metadata": {},
   "outputs": [],
   "source": [
    "#np.savez('./charanjit_data/0L/inclusive_processed/X_test_0L_cHW_0d001.npz', x=X_test_cHW_0d001, y=y_test_cHW_0d001)\n",
    "np.savez('./charanjit_data/0L/bsmlike_processed/X_test_0L_cHW_0d03.npz', x=X_test_cHW_0d03, y=y_test_cHW_0d03)"
   ]
  },
  {
   "cell_type": "code",
   "execution_count": null,
   "metadata": {},
   "outputs": [],
   "source": [
    "np.savez('./charanjit_data/0L/bsmlike/X_train_0L_cHW_0d01.npz', x=X_train_cHW_0d01, y=y_train_cHW_0d01)\n",
    "np.savez('./charanjit_data/0L/bsmlike/X_train_0L_cHW_0d03.npz', x=X_train_cHW_0d03, y=y_train_cHW_0d03)\n",
    "np.savez('./charanjit_data/0L/bsmlike/X_train_0L_cHW_0d1.npz', x=X_train_cHW_0d1, y=y_train_cHW_0d1)\n",
    "np.savez('./charanjit_data/0L/bsmlike/X_train_0L_cHW_1.npz', x=X_train_cHW_1, y=y_train_cHW_1)"
   ]
  },
  {
   "cell_type": "code",
   "execution_count": null,
   "metadata": {},
   "outputs": [],
   "source": [
    "np.savez('./charanjit_data/0L/bsmlike/X_test_0L_cHW_0d01.npz', x=X_test_cHW_0d01, y=y_test_cHW_0d01)\n",
    "np.savez('./charanjit_data/0L/bsmlike/X_test_0L_cHW_0d03.npz', x=X_test_cHW_0d03, y=y_test_cHW_0d03)\n",
    "np.savez('./charanjit_data/0L/bsmlike/X_test_0L_cHW_0d1.npz', x=X_test_cHW_0d1, y=y_test_cHW_0d1)\n",
    "np.savez('./charanjit_data/0L/bsmlike/X_test_0L_cHW_1.npz', x=X_test_cHW_1, y=y_test_cHW_1)"
   ]
  },
  {
   "cell_type": "code",
   "execution_count": null,
   "metadata": {},
   "outputs": [],
   "source": [
    "# kit kernel\n",
    "os._exit(00)"
   ]
  },
  {
   "cell_type": "markdown",
   "metadata": {},
   "source": [
    "# processing data for WH 1L"
   ]
  },
  {
   "cell_type": "code",
   "execution_count": null,
   "metadata": {},
   "outputs": [],
   "source": [
    "# %matplotlib inline\n",
    "import numpy as np\n",
    "import glob\n",
    "import pandas as pd\n",
    "import matplotlib\n",
    "import matplotlib.pyplot as plt\n",
    "import random\n",
    "import os\n",
    "from sklearn.model_selection import train_test_split\n",
    "from sklearn.preprocessing import StandardScaler"
   ]
  },
  {
   "cell_type": "code",
   "execution_count": null,
   "metadata": {},
   "outputs": [],
   "source": [
    "list_1L = []\n",
    "for name in sorted(os.listdir('./charanjit_data/1L/bsmlike/'),reverse=True):\n",
    "    filename = './charanjit_data/1L/bsmlike/' + name\n",
    "    df = pd.read_csv(filename,sep='\\s+',engine='python')\n",
    "    list_1L.append(df)"
   ]
  },
  {
   "cell_type": "code",
   "execution_count": null,
   "metadata": {},
   "outputs": [],
   "source": [
    "from sklearn import preprocessing\n",
    "scale = StandardScaler()\n",
    "min_max_scaler = preprocessing.MinMaxScaler()\n",
    "def scaleColumns(df, cols_to_scale):\n",
    "    for col in cols_to_scale:\n",
    "        df[col] = pd.DataFrame(min_max_scaler.fit_transform(pd.DataFrame(df[col])),columns=[col])\n",
    "    return df"
   ]
  },
  {
   "cell_type": "code",
   "execution_count": null,
   "metadata": {},
   "outputs": [],
   "source": [
    "wh_1L_chw_0_df = list_1L[0]\n",
    "wh_1L_chw_0d1_df = list_1L[1]\n",
    "wh_1L_chw_1_df = list_1L[2]\n",
    "wh_1L_chw_0d03_df = list_1L[3]\n",
    "wh_1L_chw_0d01_df = list_1L[4]"
   ]
  },
  {
   "cell_type": "code",
   "execution_count": null,
   "metadata": {},
   "outputs": [],
   "source": [
    "X_cHW_0d01 = pd.concat([wh_1L_chw_0d01_df, wh_1L_chw_0_df], ignore_index=True, sort=False)\n",
    "X_cHW_0d03 = pd.concat([wh_1L_chw_0d03_df, wh_1L_chw_0_df], ignore_index=True, sort=False)\n",
    "X_cHW_0d1 = pd.concat([wh_1L_chw_0d1_df, wh_1L_chw_0_df], ignore_index=True, sort=False)\n",
    "X_cHW_1 = pd.concat([wh_1L_chw_1_df, wh_1L_chw_0_df], ignore_index=True, sort=False)"
   ]
  },
  {
   "cell_type": "code",
   "execution_count": null,
   "metadata": {},
   "outputs": [],
   "source": [
    "for i in [X_cHW_0d01, X_cHW_0d03, X_cHW_0d1, X_cHW_1]:\n",
    "    i.fillna(0, inplace=True)"
   ]
  },
  {
   "cell_type": "code",
   "execution_count": null,
   "metadata": {},
   "outputs": [],
   "source": [
    "for i in [X_cHW_0d01, X_cHW_0d03, X_cHW_0d1, X_cHW_1]:\n",
    "    i = scaleColumns(i,['ptb1', 'ptb2', 'ptl', \n",
    "                        'missinget', 'pth', 'ptw', \n",
    "                        'etah', 'phih', 'deltarwl', \n",
    "                        'mtW', 'mtvh', 'ptvh', \n",
    "                        'delphibl', 'delphilmet'])"
   ]
  },
  {
   "cell_type": "code",
   "execution_count": null,
   "metadata": {},
   "outputs": [],
   "source": [
    "y_cHW_0d03 = X_cHW_0d03['signal']\n",
    "y_cHW_0d01 = X_cHW_0d01['signal']\n",
    "y_cHW_0d1 = X_cHW_0d1['signal']\n",
    "y_cHW_1 = X_cHW_1['signal']"
   ]
  },
  {
   "cell_type": "code",
   "execution_count": null,
   "metadata": {},
   "outputs": [],
   "source": [
    "for i in [X_cHW_0d01, X_cHW_0d03, X_cHW_0d1, X_cHW_1]:\n",
    "    i.drop(['signal'], axis=1, inplace=True)"
   ]
  },
  {
   "cell_type": "code",
   "execution_count": null,
   "metadata": {},
   "outputs": [],
   "source": [
    "X_train_cHW_0d03, X_test_cHW_0d03, y_train_cHW_0d03, y_test_cHW_0d03 = \\\n",
    "train_test_split(X_cHW_0d03, y_cHW_0d03, train_size=0.8, test_size=0.2, shuffle=True)\n",
    "\n",
    "X_train_cHW_0d01, X_test_cHW_0d01, y_train_cHW_0d01, y_test_cHW_0d01 = \\\n",
    "train_test_split(X_cHW_0d01, y_cHW_0d01, train_size=0.8, test_size=0.2, shuffle=True)\n",
    "\n",
    "X_train_cHW_0d1, X_test_cHW_0d1, y_train_cHW_0d1, y_test_cHW_0d1 = \\\n",
    "train_test_split(X_cHW_0d1, y_cHW_0d1, train_size=0.8, test_size=0.2, shuffle=True)\n",
    "\n",
    "X_train_cHW_1, X_test_cHW_1, y_train_cHW_1, y_test_cHW_1 = \\\n",
    "train_test_split(X_cHW_1, y_cHW_1, train_size=0.8, test_size=0.2, shuffle=True)"
   ]
  },
  {
   "cell_type": "code",
   "execution_count": null,
   "metadata": {},
   "outputs": [],
   "source": [
    "np.savez('./charanjit_data/1L/bsmlike/X_train_1L_cHW_0d01.npz', x=X_train_cHW_0d01, y=y_train_cHW_0d01)\n",
    "np.savez('./charanjit_data/1L/bsmlike/X_train_1L_cHW_0d03.npz', x=X_train_cHW_0d03, y=y_train_cHW_0d03)\n",
    "np.savez('./charanjit_data/1L/bsmlike/X_train_1L_cHW_0d1.npz', x=X_train_cHW_0d1, y=y_train_cHW_0d1)\n",
    "np.savez('./charanjit_data/1L/bsmlike/X_train_1L_cHW_1.npz', x=X_train_cHW_1, y=y_train_cHW_1)"
   ]
  },
  {
   "cell_type": "code",
   "execution_count": null,
   "metadata": {},
   "outputs": [],
   "source": [
    "np.savez('./charanjit_data/1L/bsmlike/X_test_1L_cHW_0d01.npz', x=X_test_cHW_0d01, y=y_test_cHW_0d01)\n",
    "np.savez('./charanjit_data/1L/bsmlike/X_test_1L_cHW_0d03.npz', x=X_test_cHW_0d03, y=y_test_cHW_0d03)\n",
    "np.savez('./charanjit_data/1L/bsmlike/X_test_1L_cHW_0d1.npz', x=X_test_cHW_0d1, y=y_test_cHW_0d1)\n",
    "np.savez('./charanjit_data/1L/bsmlike/X_test_1L_cHW_1.npz', x=X_test_cHW_1, y=y_test_cHW_1)"
   ]
  },
  {
   "cell_type": "code",
   "execution_count": null,
   "metadata": {},
   "outputs": [],
   "source": [
    "# kit kernel\n",
    "os._exit(00)"
   ]
  },
  {
   "cell_type": "markdown",
   "metadata": {},
   "source": [
    "# processing data for ZH 2L"
   ]
  },
  {
   "cell_type": "code",
   "execution_count": null,
   "metadata": {},
   "outputs": [],
   "source": [
    "# %matplotlib inline\n",
    "import numpy as np\n",
    "import glob\n",
    "import pandas as pd\n",
    "import matplotlib\n",
    "import matplotlib.pyplot as plt\n",
    "import random\n",
    "import os\n",
    "from sklearn.model_selection import train_test_split\n",
    "from sklearn.preprocessing import StandardScaler"
   ]
  },
  {
   "cell_type": "code",
   "execution_count": null,
   "metadata": {},
   "outputs": [],
   "source": [
    "list_2L = []\n",
    "for name in sorted(os.listdir('./charanjit_data/2L/bsmlike/'),reverse=True):\n",
    "    filename = './charanjit_data/2L/bsmlike/' + name\n",
    "    df = pd.read_csv(filename,sep='\\s+',engine='python')\n",
    "    list_2L.append(df)"
   ]
  },
  {
   "cell_type": "code",
   "execution_count": null,
   "metadata": {},
   "outputs": [],
   "source": [
    "from sklearn import preprocessing\n",
    "scale = StandardScaler()\n",
    "min_max_scaler = preprocessing.MinMaxScaler()\n",
    "def scaleColumns(df, cols_to_scale):\n",
    "    for col in cols_to_scale:\n",
    "        df[col] = pd.DataFrame(min_max_scaler.fit_transform(pd.DataFrame(df[col])),columns=[col])\n",
    "    return df"
   ]
  },
  {
   "cell_type": "code",
   "execution_count": null,
   "metadata": {},
   "outputs": [],
   "source": [
    "zh_chw_0_df = list_2L[0]\n",
    "zh_chw_0d1_df = list_2L[1]\n",
    "zh_chw_1_df = list_2L[2]\n",
    "zh_chw_0d03_df = list_2L[3]\n",
    "zh_chw_0d01_df = list_2L[4]"
   ]
  },
  {
   "cell_type": "code",
   "execution_count": null,
   "metadata": {},
   "outputs": [],
   "source": [
    "X_cHW_0d01 = pd.concat([zh_chw_0d01_df, zh_chw_0_df], ignore_index=True, sort=False)\n",
    "X_cHW_0d03 = pd.concat([zh_chw_0d03_df, zh_chw_0_df], ignore_index=True, sort=False)\n",
    "X_cHW_0d1 = pd.concat([zh_chw_0d1_df, zh_chw_0_df], ignore_index=True, sort=False)\n",
    "X_cHW_1 = pd.concat([zh_chw_1_df, zh_chw_0_df], ignore_index=True, sort=False)"
   ]
  },
  {
   "cell_type": "code",
   "execution_count": null,
   "metadata": {},
   "outputs": [],
   "source": [
    "for i in [X_cHW_0d01, X_cHW_0d03, X_cHW_0d1, X_cHW_1]:\n",
    "    i.fillna(0, inplace=True)"
   ]
  },
  {
   "cell_type": "code",
   "execution_count": null,
   "metadata": {},
   "outputs": [],
   "source": [
    "X_cHW_0d01.keys()"
   ]
  },
  {
   "cell_type": "code",
   "execution_count": null,
   "metadata": {},
   "outputs": [],
   "source": [
    "for i in [X_cHW_0d01, X_cHW_0d03, X_cHW_0d1, X_cHW_1]:\n",
    "    i = scaleColumns(i,['ptb1', 'ptb2', 'ptl1', \n",
    "                        'ptl2', 'pth', 'ptz', \n",
    "                        'etah', 'phih', 'deltarll', \n",
    "                        'deltarbl', 'mtvh', 'ptvh', \n",
    "                        'dphil1b1', 'dphil1b2'])"
   ]
  },
  {
   "cell_type": "code",
   "execution_count": null,
   "metadata": {},
   "outputs": [],
   "source": [
    "y_cHW_0d03 = X_cHW_0d03['signal']\n",
    "y_cHW_0d01 = X_cHW_0d01['signal']\n",
    "y_cHW_0d1 = X_cHW_0d1['signal']\n",
    "y_cHW_1 = X_cHW_1['signal']"
   ]
  },
  {
   "cell_type": "code",
   "execution_count": null,
   "metadata": {},
   "outputs": [],
   "source": [
    "for i in [X_cHW_0d01, X_cHW_0d03, X_cHW_0d1, X_cHW_1]:\n",
    "    i.drop(['signal'], axis=1, inplace=True)"
   ]
  },
  {
   "cell_type": "code",
   "execution_count": null,
   "metadata": {},
   "outputs": [],
   "source": [
    "X_train_cHW_0d03, X_test_cHW_0d03, y_train_cHW_0d03, y_test_cHW_0d03 = \\\n",
    "train_test_split(X_cHW_0d03, y_cHW_0d03, train_size=0.8, test_size=0.2, shuffle=True)\n",
    "\n",
    "X_train_cHW_0d01, X_test_cHW_0d01, y_train_cHW_0d01, y_test_cHW_0d01 = \\\n",
    "train_test_split(X_cHW_0d01, y_cHW_0d01, train_size=0.8, test_size=0.2, shuffle=True)\n",
    "\n",
    "X_train_cHW_0d1, X_test_cHW_0d1, y_train_cHW_0d1, y_test_cHW_0d1 = \\\n",
    "train_test_split(X_cHW_0d1, y_cHW_0d1, train_size=0.8, test_size=0.2, shuffle=True)\n",
    "\n",
    "X_train_cHW_1, X_test_cHW_1, y_train_cHW_1, y_test_cHW_1 = \\\n",
    "train_test_split(X_cHW_1, y_cHW_1, train_size=0.8, test_size=0.2, shuffle=True)"
   ]
  },
  {
   "cell_type": "code",
   "execution_count": null,
   "metadata": {},
   "outputs": [],
   "source": [
    "np.savez('./charanjit_data/2L/bsmlike/X_train_2L_cHW_0d01.npz', x=X_train_cHW_0d01, y=y_train_cHW_0d01)\n",
    "np.savez('./charanjit_data/2L/bsmlike/X_train_2L_cHW_0d03.npz', x=X_train_cHW_0d03, y=y_train_cHW_0d03)\n",
    "np.savez('./charanjit_data/2L/bsmlike/X_train_2L_cHW_0d1.npz', x=X_train_cHW_0d1, y=y_train_cHW_0d1)\n",
    "np.savez('./charanjit_data/2L/bsmlike/X_train_2L_cHW_1.npz', x=X_train_cHW_1, y=y_train_cHW_1)"
   ]
  },
  {
   "cell_type": "code",
   "execution_count": null,
   "metadata": {},
   "outputs": [],
   "source": [
    "np.savez('./charanjit_data/2L/bsmlike/X_test_2L_cHW_0d01.npz', x=X_test_cHW_0d01, y=y_test_cHW_0d01)\n",
    "np.savez('./charanjit_data/2L/bsmlike/X_test_2L_cHW_0d03.npz', x=X_test_cHW_0d03, y=y_test_cHW_0d03)\n",
    "np.savez('./charanjit_data/2L/bsmlike/X_test_2L_cHW_0d1.npz', x=X_test_cHW_0d1, y=y_test_cHW_0d1)\n",
    "np.savez('./charanjit_data/2L/bsmlike/X_test_2L_cHW_1.npz', x=X_test_cHW_1, y=y_test_cHW_1)"
   ]
  },
  {
   "cell_type": "code",
   "execution_count": null,
   "metadata": {},
   "outputs": [],
   "source": [
    "# kit kernel\n",
    "os._exit(00)"
   ]
  },
  {
   "cell_type": "markdown",
   "metadata": {},
   "source": [
    "# Everything togheter!!"
   ]
  },
  {
   "cell_type": "code",
   "execution_count": null,
   "metadata": {},
   "outputs": [],
   "source": [
    "# %matplotlib inline\n",
    "import numpy as np\n",
    "import glob\n",
    "import pandas as pd\n",
    "import matplotlib\n",
    "import matplotlib.pyplot as plt\n",
    "import random\n",
    "import os\n",
    "from sklearn.model_selection import train_test_split\n",
    "from sklearn.preprocessing import StandardScaler"
   ]
  },
  {
   "cell_type": "code",
   "execution_count": null,
   "metadata": {},
   "outputs": [],
   "source": [
    "list_0L = []\n",
    "for name in sorted(os.listdir('./charanjit_data/0L/bsmlike/'),reverse=True):\n",
    "    filename = './charanjit_data/0L/bsmlike/' + name\n",
    "    df = pd.read_csv(filename,sep='\\s+',engine='python')\n",
    "    list_0L.append(df)\n",
    "\n",
    "list_1L = []\n",
    "for name in sorted(os.listdir('./charanjit_data/1L/bsmlike/'),reverse=True):\n",
    "    filename = './charanjit_data/1L/bsmlike/' + name\n",
    "    df = pd.read_csv(filename,sep='\\s+',engine='python')\n",
    "    list_1L.append(df)\n",
    "\n",
    "list_2L = []\n",
    "for name in sorted(os.listdir('./charanjit_data/2L/bsmlike/'),reverse=True):\n",
    "    filename = './charanjit_data/2L/bsmlike/' + name\n",
    "    df = pd.read_csv(filename,sep='\\s+',engine='python')\n",
    "    list_2L.append(df)"
   ]
  },
  {
   "cell_type": "code",
   "execution_count": null,
   "metadata": {},
   "outputs": [],
   "source": [
    "from sklearn import preprocessing\n",
    "scale = StandardScaler()\n",
    "min_max_scaler = preprocessing.MinMaxScaler()\n",
    "def scaleColumns(df, cols_to_scale):\n",
    "    for col in cols_to_scale:\n",
    "        df[col] = pd.DataFrame(min_max_scaler.fit_transform(pd.DataFrame(df[col])),columns=[col])\n",
    "    return df"
   ]
  },
  {
   "cell_type": "code",
   "execution_count": null,
   "metadata": {},
   "outputs": [],
   "source": [
    "zh_0L_chw_0_df = list_0L[0]\n",
    "zh_0L_chw_0d1_df = list_0L[1]\n",
    "zh_0L_chw_1_df = list_0L[2]\n",
    "zh_0L_chw_0d03_df = list_0L[3]\n",
    "zh_0L_chw_0d01_df = list_0L[4]"
   ]
  },
  {
   "cell_type": "code",
   "execution_count": null,
   "metadata": {},
   "outputs": [],
   "source": [
    "wh_1L_chw_0_df = list_1L[0]\n",
    "wh_1L_chw_0d1_df = list_1L[1]\n",
    "wh_1L_chw_1_df = list_1L[2]\n",
    "wh_1L_chw_0d03_df = list_1L[3]\n",
    "wh_1L_chw_0d01_df = list_1L[4]"
   ]
  },
  {
   "cell_type": "code",
   "execution_count": null,
   "metadata": {},
   "outputs": [],
   "source": [
    "zh_2L_chw_0_df = list_2L[0]\n",
    "zh_2L_chw_0d1_df = list_2L[1]\n",
    "zh_2L_chw_1_df = list_2L[2]\n",
    "zh_2L_chw_0d03_df = list_2L[3]\n",
    "zh_2L_chw_0d01_df = list_2L[4]"
   ]
  },
  {
   "cell_type": "code",
   "execution_count": null,
   "metadata": {},
   "outputs": [],
   "source": [
    "DF_cHW_0 = pd.concat([zh_0L_chw_0_df, wh_1L_chw_0_df, zh_2L_chw_0_df],\n",
    "                    ignore_index=True, sort=False)\n",
    "\n",
    "DF_cHW_0d01 = pd.concat([zh_0L_chw_0d01_df, wh_1L_chw_0d01_df, zh_2L_chw_0d01_df],\n",
    "                    ignore_index=True, sort=False)\n",
    "\n",
    "DF_cHW_0d03 = pd.concat([zh_0L_chw_0d03_df, wh_1L_chw_0d03_df, zh_2L_chw_0d03_df],\n",
    "                    ignore_index=True, sort=False)\n",
    "\n",
    "DF_cHW_0d1 = pd.concat([zh_0L_chw_0d1_df, wh_1L_chw_0d1_df, zh_2L_chw_0d1_df],\n",
    "                    ignore_index=True, sort=False)\n",
    "\n",
    "DF_cHW_1 = pd.concat([zh_0L_chw_1_df, wh_1L_chw_1_df, zh_2L_chw_1_df],\n",
    "                    ignore_index=True, sort=False)"
   ]
  },
  {
   "cell_type": "code",
   "execution_count": null,
   "metadata": {},
   "outputs": [],
   "source": [
    "X_cHW_0d01 = pd.concat([DF_cHW_0d01, DF_cHW_0], ignore_index=True, sort=False)\n",
    "X_cHW_0d03 = pd.concat([DF_cHW_0d03, DF_cHW_0], ignore_index=True, sort=False)\n",
    "X_cHW_0d1 = pd.concat([DF_cHW_0d1, DF_cHW_0], ignore_index=True, sort=False)\n",
    "X_cHW_1 = pd.concat([DF_cHW_1, DF_cHW_0], ignore_index=True, sort=False)"
   ]
  },
  {
   "cell_type": "code",
   "execution_count": null,
   "metadata": {},
   "outputs": [],
   "source": [
    "for i in [X_cHW_0d01, X_cHW_0d03, X_cHW_0d1, X_cHW_1]:\n",
    "    i.fillna(0, inplace=True)"
   ]
  },
  {
   "cell_type": "code",
   "execution_count": null,
   "metadata": {},
   "outputs": [],
   "source": [
    "X_cHW_0d01.keys()"
   ]
  },
  {
   "cell_type": "code",
   "execution_count": null,
   "metadata": {},
   "outputs": [],
   "source": [
    "for i in [X_cHW_0d01, X_cHW_0d03, X_cHW_0d1, X_cHW_1]:\n",
    "    i = scaleColumns(i,['ptb1', 'ptb2', 'misset', \n",
    "                        'pth', 'ptz', 'etah',\n",
    "                        'phih', 'mtvh', 'ptvh',\n",
    "                        'dphib1met', 'ptl', 'missinget',\n",
    "                        'ptw', 'deltarwl', 'mtW',\n",
    "                        'delphibl', 'delphilmet', 'ptl1',\n",
    "                        'ptl2', 'deltarll', 'deltarbl',\n",
    "                        'dphil1b1', 'dphil1b2'])"
   ]
  },
  {
   "cell_type": "code",
   "execution_count": null,
   "metadata": {},
   "outputs": [],
   "source": [
    "y_cHW_0d03 = X_cHW_0d03['signal']\n",
    "y_cHW_0d01 = X_cHW_0d01['signal']\n",
    "y_cHW_0d1 = X_cHW_0d1['signal']\n",
    "y_cHW_1 = X_cHW_1['signal']"
   ]
  },
  {
   "cell_type": "code",
   "execution_count": null,
   "metadata": {},
   "outputs": [],
   "source": [
    "for i in [X_cHW_0d01, X_cHW_0d03, X_cHW_0d1, X_cHW_1]:\n",
    "    i.drop(['signal'], axis=1, inplace=True)"
   ]
  },
  {
   "cell_type": "code",
   "execution_count": null,
   "metadata": {},
   "outputs": [],
   "source": [
    "X_train_cHW_0d03, X_test_cHW_0d03, y_train_cHW_0d03, y_test_cHW_0d03 = \\\n",
    "train_test_split(X_cHW_0d03, y_cHW_0d03, train_size=0.8, test_size=0.2, shuffle=True)\n",
    "\n",
    "X_train_cHW_0d01, X_test_cHW_0d01, y_train_cHW_0d01, y_test_cHW_0d01 = \\\n",
    "train_test_split(X_cHW_0d01, y_cHW_0d01, train_size=0.8, test_size=0.2, shuffle=True)\n",
    "\n",
    "X_train_cHW_0d1, X_test_cHW_0d1, y_train_cHW_0d1, y_test_cHW_0d1 = \\\n",
    "train_test_split(X_cHW_0d1, y_cHW_0d1, train_size=0.8, test_size=0.2, shuffle=True)\n",
    "\n",
    "X_train_cHW_1, X_test_cHW_1, y_train_cHW_1, y_test_cHW_1 = \\\n",
    "train_test_split(X_cHW_1, y_cHW_1, train_size=0.8, test_size=0.2, shuffle=True)"
   ]
  },
  {
   "cell_type": "code",
   "execution_count": null,
   "metadata": {},
   "outputs": [],
   "source": [
    "np.savez('./charanjit_data/3_channels/bsmlike/X_train_all_cHW_0d01.npz', x=X_train_cHW_0d01, y=y_train_cHW_0d01)\n",
    "np.savez('./charanjit_data/3_channels/bsmlike/X_train_all_cHW_0d03.npz', x=X_train_cHW_0d03, y=y_train_cHW_0d03)\n",
    "np.savez('./charanjit_data/3_channels/bsmlike/X_train_all_cHW_0d1.npz', x=X_train_cHW_0d1, y=y_train_cHW_0d1)\n",
    "np.savez('./charanjit_data/3_channels/bsmlike/X_train_all_cHW_1.npz', x=X_train_cHW_1, y=y_train_cHW_1)"
   ]
  },
  {
   "cell_type": "code",
   "execution_count": null,
   "metadata": {},
   "outputs": [],
   "source": [
    "np.savez('./charanjit_data/3_channels/bsmlike/X_test_all_cHW_0d01.npz', x=X_test_cHW_0d01, y=y_test_cHW_0d01)\n",
    "np.savez('./charanjit_data/3_channels/bsmlike/X_test_all_cHW_0d03.npz', x=X_test_cHW_0d03, y=y_test_cHW_0d03)\n",
    "np.savez('./charanjit_data/3_channels/bsmlike/X_test_all_cHW_0d1.npz', x=X_test_cHW_0d1, y=y_test_cHW_0d1)\n",
    "np.savez('./charanjit_data/3_channels/bsmlike/X_test_all_cHW_1.npz', x=X_test_cHW_1, y=y_test_cHW_1)"
   ]
  },
  {
   "cell_type": "code",
   "execution_count": null,
   "metadata": {},
   "outputs": [],
   "source": [
    "# kit kernel\n",
    "os._exit(00)"
   ]
  },
  {
   "cell_type": "code",
   "execution_count": null,
   "metadata": {},
   "outputs": [],
   "source": []
  }
 ],
 "metadata": {
  "kernelspec": {
   "display_name": "Python 3",
   "language": "python",
   "name": "python3"
  },
  "language_info": {
   "codemirror_mode": {
    "name": "ipython",
    "version": 3
   },
   "file_extension": ".py",
   "mimetype": "text/x-python",
   "name": "python",
   "nbconvert_exporter": "python",
   "pygments_lexer": "ipython3",
   "version": "3.6.5"
  }
 },
 "nbformat": 4,
 "nbformat_minor": 2
}
