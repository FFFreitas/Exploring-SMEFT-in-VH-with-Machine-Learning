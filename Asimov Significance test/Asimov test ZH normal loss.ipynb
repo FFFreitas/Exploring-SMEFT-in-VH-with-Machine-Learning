{
 "cells": [
  {
   "cell_type": "markdown",
   "metadata": {},
   "source": [
    "# First load os and sys so I can update the sys.path with new functions"
   ]
  },
  {
   "cell_type": "markdown",
   "metadata": {},
   "source": [
    "change the luminosity to 80 /fb\n",
    "\n",
    "generate the 3 plots as in aewol paper."
   ]
  },
  {
   "cell_type": "code",
   "execution_count": null,
   "metadata": {},
   "outputs": [],
   "source": [
    "import os\n",
    "import sys"
   ]
  },
  {
   "cell_type": "code",
   "execution_count": null,
   "metadata": {},
   "outputs": [],
   "source": [
    "#take the paths to the functions we nedd\n",
    "module_path = os.path.abspath(os.path.join('./pandasPlotting/'))\n",
    "module2_path = os.path.abspath(os.path.join('./MlClasses/'))\n",
    "module3_path = os.path.abspath(os.path.join('./MlFunctions/'))"
   ]
  },
  {
   "cell_type": "code",
   "execution_count": null,
   "metadata": {},
   "outputs": [],
   "source": [
    "# this part will include in the sys.path variables the paths for our new functions\n",
    "if [module_path, module2_path, module3_path] not in sys.path:\n",
    "    sys.path.append(module_path)"
   ]
  },
  {
   "cell_type": "code",
   "execution_count": null,
   "metadata": {},
   "outputs": [],
   "source": [
    "# here we are going to load what we will need, keras + tensorflow, plot functions, etc..\n",
    "import matplotlib\n",
    "matplotlib.use('Agg')\n",
    "import pandas as pd\n",
    "import numpy as np\n",
    "import math\n",
    "import time\n",
    "\n",
    "from keras import callbacks\n",
    "\n",
    "from pandasPlotting.Plotter import Plotter\n",
    "from pandasPlotting.dfFunctions import expandArrays\n",
    "from pandasPlotting.dtFunctions import featureImportance\n",
    "\n",
    "from MlClasses.MlData import MlData\n",
    "from MlClasses.Bdt import Bdt\n",
    "from MlClasses.Dnn import Dnn\n",
    "from MlClasses.ComparePerformances import ComparePerformances\n",
    "\n",
    "from MlFunctions.DnnFunctions import significanceLoss,significanceLossInvert,significanceLoss2Invert ,significanceLossInvertSqrt,significanceFull,asimovSignificanceLoss,asimovSignificanceLossInvert,asimovSignificanceFull,truePositive,falsePositive\n",
    "\n",
    "from linearAlgebraFunctions import gram,addGramToFlatDF"
   ]
  },
  {
   "cell_type": "code",
   "execution_count": null,
   "metadata": {},
   "outputs": [],
   "source": [
    "# I don't have patience to training 200 epochs ¯\\_(ツ)_/¯\n",
    "earlyStopping = callbacks.EarlyStopping(monitor='val_loss',min_delta=0,patience=5)"
   ]
  },
  {
   "cell_type": "code",
   "execution_count": null,
   "metadata": {},
   "outputs": [],
   "source": [
    "#load our data files\n",
    "signal=pd.read_csv(\"../pyROOT_CPV_CPC/pp_wh/2dplots/analysis_with_cut/cpv_scan/charanjit_data/0L/feb/inlcusive/zh0p030lfeb.csv\",sep='\\s+',engine='python')\n",
    "bkgd=pd.read_csv(\"../pyROOT_CPV_CPC/pp_wh/2dplots/analysis_with_cut/cpv_scan/charanjit_data/0L/feb/inlcusive/zhsm0lfeb.csv\",sep='\\s+',engine='python')\n"
   ]
  },
  {
   "cell_type": "code",
   "execution_count": null,
   "metadata": {},
   "outputs": [],
   "source": [
    "#combine them into one dataset\n",
    "combined = pd.concat([signal,bkgd]).sample(frac=1)"
   ]
  },
  {
   "cell_type": "code",
   "execution_count": null,
   "metadata": {},
   "outputs": [],
   "source": [
    "print(combined.keys())"
   ]
  },
  {
   "cell_type": "code",
   "execution_count": null,
   "metadata": {},
   "outputs": [],
   "source": [
    "# change thes vars depend on which dataset you are loading, I will implement a better solution.\n",
    "chosenVars = {\n",
    "            # #A vanilla analysis with HL variables and lead 3 jets\n",
    "            '0L':['ptb1', 'ptb2', 'misset', 'pth', 'ptz', 'etah', 'phih', 'mtvh', 'ptvh', 'dphib1met', 'signal'],\n",
    "            #'2L':['ptb1', 'ptb2', 'ptl1', 'ptl2', 'pth', 'ptz', 'etah', 'phih',\n",
    "            #     'deltarll', 'deltarbl', 'mtvh', 'ptvh', 'dphil1b1', 'dphil1b2', 'signal']\n",
    "}"
   ]
  },
  {
   "cell_type": "code",
   "execution_count": null,
   "metadata": {},
   "outputs": [],
   "source": [
    "trainedModels={}"
   ]
  },
  {
   "cell_type": "code",
   "execution_count": null,
   "metadata": {},
   "outputs": [],
   "source": [
    "#needed to plot asimov significane\n",
    "asimovSigLossSysts=[0.01,0.05,0.1,0.2,0.3,0.4,0.5]"
   ]
  },
  {
   "cell_type": "code",
   "execution_count": null,
   "metadata": {},
   "outputs": [],
   "source": [
    "# here I have included one archtecture I got from my ES scan, pls comment my entry and use dnn_batch4096 instead.\n",
    "dnnConfigs={\n",
    "    #'dnn_ZH_0L_cHW_0d03_batch_128':{'epochs':200,'batch_size':128,'dropOut':0.2,'l2Regularization':None,'hiddenLayers':[1.0,64,64,64],\n",
    "    #            'optimizer':'adadelta', 'activation':'tanh'},\n",
    "    #'dnn_ZH_0L_cHW_0d03_batch_256':{'epochs':200,'batch_size':256,'dropOut':0.2,'l2Regularization':None,'hiddenLayers':[1.0,64,64,64],\n",
    "    #             'optimizer':'adadelta', 'activation':'tanh'},\n",
    "    #'dnn_ZH_0L_cHW_0d03_batch_512':{'epochs':200,'batch_size':512,'dropOut':0.2,'l2Regularization':None,'hiddenLayers':[1.0,64,64,64],\n",
    "    #             'optimizer':'adadelta', 'activation':'tanh'},\n",
    "    'dnn_ZH_0L_cHW_0d03_batch_1024':{'epochs':200,'batch_size':1024,'dropOut':0.2,'l2Regularization':None,'hiddenLayers':[1.0,64,64,64],\n",
    "                 'optimizer':'adadelta', 'activation':'tanh'}\n",
    "    #'dnn_ZH_2L_cHW_0d03_batch_128':{'epochs':200,'batch_size':128,'dropOut':0.2,'l2Regularization':None,'hiddenLayers':[128,128,128],\n",
    "    #             'optimizer':'adagrad', 'activation':'elu'},\n",
    "    #'dnn_ZH_2L_cHW_0d03_batch_256':{'epochs':200,'batch_size':256,'dropOut':0.2,'l2Regularization':None,'hiddenLayers':[128,128,128],\n",
    "    #             'optimizer':'adagrad', 'activation':'elu'},\n",
    "    #'dnn_ZH_2L_cHW_0d03_batch_512':{'epochs':200,'batch_size':512,'dropOut':0.2,'l2Regularization':None,'hiddenLayers':[128,128,128],\n",
    "    #             'optimizer':'adagrad', 'activation':'elu'},\n",
    "    #'dnn_ZH_2L_cHW_0d03_batch_1024':{'epochs':200,'batch_size':1024,'dropOut':0.2,'l2Regularization':None,'hiddenLayers':[128,128,128],\n",
    "    #             'optimizer':'adagrad', 'activation':'elu'}    \n",
    "        }"
   ]
  },
  {
   "cell_type": "code",
   "execution_count": null,
   "metadata": {},
   "outputs": [],
   "source": [
    "lumi=80. #luminosity in /fb\n",
    "expectedSignal=14*lumi \n",
    "expectedBkgd=2*lumi #cross section of ttbar sample in fb times efficiency measured by Marco\n",
    "systematic=0.1 #systematic for the asimov signficance"
   ]
  },
  {
   "cell_type": "code",
   "execution_count": null,
   "metadata": {},
   "outputs": [],
   "source": [
    "# I'm only running the DNN with binary cross entropy, letter I will include the other options.\n",
    "# so far it running perfect, I'm testing with their custom loss function.\n",
    "for varSetName,varSet in chosenVars.items():\n",
    "    #Pick out the expanded arrays\n",
    "    columnsInDataFrame = []\n",
    "    for k in combined.keys():\n",
    "        for v in varSet:\n",
    "            #Little trick to ensure only the start of the string is checked\n",
    "            if varSetName is '0L':\n",
    "                if ' '+v+' ' in ' '+k+' ': columnsInDataFrame.append(k)\n",
    "            elif ' '+v in ' '+k: columnsInDataFrame.append(k)\n",
    "\n",
    "\n",
    "    #Select just the features we're interested in\n",
    "    #For now setting NaNs to 0 for compatibility\n",
    "    combinedToRun = combined[columnsInDataFrame].copy()\n",
    "    combinedToRun.fillna(0,inplace=True)\n",
    "    \n",
    "    combinedToRun.index = np.arange(0,200000)\n",
    "    mlData = MlData(combinedToRun,'signal')\n",
    "\n",
    "    mlData.prepare(evalSize=0.0,testSize=0.3,limitSize=None)\n",
    "\n",
    "    for name,config in dnnConfigs.items():\n",
    "        dnn = Dnn(mlData,'testPlots/mlPlots/mse_loss/'+varSetName+'/'+name)\n",
    "        dnn.setup(hiddenLayers=config['hiddenLayers'], dropOut=config['dropOut'],\n",
    "                  l2Regularization=config['l2Regularization'], optimizer=config['optimizer'],\n",
    "                  activation=config['activation'],\n",
    "                extraMetrics=[\n",
    "                    significanceLoss(expectedSignal,expectedBkgd),significanceFull(expectedSignal,expectedBkgd),\n",
    "                    asimovSignificanceFull(expectedSignal,expectedBkgd,systematic),truePositive,falsePositive\n",
    "                    ])\n",
    "        dnn.fit(epochs=config['epochs'],batch_size=config['batch_size'])\n",
    "        \n",
    "        dnn.explainPredictions()\n",
    "        dnn.diagnostics(batchSize=config['batch_size'])\n",
    "        dnn.makeHepPlots(expectedSignal,expectedBkgd,asimovSigLossSysts,makeHistograms=False)\n",
    "\n",
    "        trainedModels[varSetName+'_'+name]=dnn"
   ]
  },
  {
   "cell_type": "code",
   "execution_count": null,
   "metadata": {},
   "outputs": [],
   "source": []
  }
 ],
 "metadata": {
  "kernelspec": {
   "display_name": "TensorFlow-GPU",
   "language": "python",
   "name": "tf-gpu"
  },
  "language_info": {
   "codemirror_mode": {
    "name": "ipython",
    "version": 3
   },
   "file_extension": ".py",
   "mimetype": "text/x-python",
   "name": "python",
   "nbconvert_exporter": "python",
   "pygments_lexer": "ipython3",
   "version": "3.6.8"
  }
 },
 "nbformat": 4,
 "nbformat_minor": 2
}
