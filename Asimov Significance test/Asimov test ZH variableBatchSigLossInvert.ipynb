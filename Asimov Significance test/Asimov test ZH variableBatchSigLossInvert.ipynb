{
 "cells": [
  {
   "cell_type": "markdown",
   "metadata": {},
   "source": [
    "# First load os and sys so I can update the sys.path with new functions"
   ]
  },
  {
   "cell_type": "markdown",
   "metadata": {},
   "source": [
    "change the luminosity to 80 /fb\n",
    "\n",
    "generate the 3 plots as in aewol paper."
   ]
  },
  {
   "cell_type": "code",
   "execution_count": 1,
   "metadata": {},
   "outputs": [],
   "source": [
    "import os\n",
    "import sys"
   ]
  },
  {
   "cell_type": "code",
   "execution_count": 2,
   "metadata": {},
   "outputs": [],
   "source": [
    "#take the paths to the functions we nedd\n",
    "module_path = os.path.abspath(os.path.join('./pandasPlotting/'))\n",
    "module2_path = os.path.abspath(os.path.join('./MlClasses/'))\n",
    "module3_path = os.path.abspath(os.path.join('./MlFunctions/'))"
   ]
  },
  {
   "cell_type": "code",
   "execution_count": 3,
   "metadata": {},
   "outputs": [],
   "source": [
    "# this part will include in the sys.path variables the paths for our new functions\n",
    "if [module_path, module2_path, module3_path] not in sys.path:\n",
    "    sys.path.append(module_path)"
   ]
  },
  {
   "cell_type": "code",
   "execution_count": 4,
   "metadata": {},
   "outputs": [
    {
     "name": "stderr",
     "output_type": "stream",
     "text": [
      "Using TensorFlow backend.\n"
     ]
    }
   ],
   "source": [
    "# here we are going to load what we will need, keras + tensorflow, plot functions, etc..\n",
    "import matplotlib\n",
    "matplotlib.use('Agg')\n",
    "import pandas as pd\n",
    "import numpy as np\n",
    "import math\n",
    "import time\n",
    "\n",
    "from keras import callbacks\n",
    "\n",
    "from pandasPlotting.Plotter import Plotter\n",
    "from pandasPlotting.dfFunctions import expandArrays\n",
    "from pandasPlotting.dtFunctions import featureImportance\n",
    "\n",
    "from MlClasses.MlData import MlData\n",
    "from MlClasses.Bdt import Bdt\n",
    "from MlClasses.Dnn import Dnn\n",
    "from MlClasses.ComparePerformances import ComparePerformances\n",
    "\n",
    "from MlFunctions.DnnFunctions import significanceLoss,significanceLossInvert,significanceLoss2Invert ,significanceLossInvertSqrt,significanceFull,asimovSignificanceLoss,asimovSignificanceLossInvert,asimovSignificanceFull,truePositive,falsePositive\n",
    "\n",
    "from linearAlgebraFunctions import gram,addGramToFlatDF"
   ]
  },
  {
   "cell_type": "code",
   "execution_count": 5,
   "metadata": {},
   "outputs": [],
   "source": [
    "# I don't have patience to training 200 epochs ¯\\_(ツ)_/¯\n",
    "earlyStopping = callbacks.EarlyStopping(monitor='val_loss',min_delta=0,patience=5)"
   ]
  },
  {
   "cell_type": "code",
   "execution_count": 6,
   "metadata": {},
   "outputs": [],
   "source": [
    "#load our data files\n",
    "signal=pd.read_csv(\"../pyROOT_CPV_CPC/pp_wh/2dplots/analysis_with_cut/cpv_scan/charanjit_data/0L/feb/feb-0L-inclusive/zh0p030lfeb.csv\",sep='\\s+',engine='python')\n",
    "bkgd=pd.read_csv(\"../pyROOT_CPV_CPC/pp_wh/2dplots/analysis_with_cut/cpv_scan/charanjit_data/0L/feb/feb-0L-inclusive/zhsm0lfeb.csv\",sep='\\s+',engine='python')\n"
   ]
  },
  {
   "cell_type": "code",
   "execution_count": 7,
   "metadata": {},
   "outputs": [],
   "source": [
    "#combine them into one dataset\n",
    "combined = pd.concat([signal,bkgd]).sample(frac=1)"
   ]
  },
  {
   "cell_type": "code",
   "execution_count": 8,
   "metadata": {},
   "outputs": [
    {
     "name": "stdout",
     "output_type": "stream",
     "text": [
      "Index(['ptb1', 'ptb2', 'misset', 'pth', 'ptz', 'etah', 'phih', 'mtvh', 'ptvh',\n",
      "       'dphib1met', 'signal'],\n",
      "      dtype='object')\n"
     ]
    }
   ],
   "source": [
    "print(combined.keys())"
   ]
  },
  {
   "cell_type": "code",
   "execution_count": 9,
   "metadata": {},
   "outputs": [],
   "source": [
    "# change thes vars depend on which dataset you are loading, I will implement a better solution.\n",
    "chosenVars = {\n",
    "            # #A vanilla analysis with HL variables and lead 3 jets\n",
    "            '0L':['ptb1', 'ptb2', 'misset', 'pth', 'ptz', 'etah', 'phih', 'mtvh', 'ptvh', 'dphib1met', 'signal'],\n",
    "            #'2L':['ptb1', 'ptb2', 'ptl1', 'ptl2', 'pth', 'ptz', 'etah', 'phih',\n",
    "            #     'deltarll', 'deltarbl', 'mtvh', 'ptvh', 'dphil1b1', 'dphil1b2', 'signal']\n",
    "}"
   ]
  },
  {
   "cell_type": "code",
   "execution_count": 10,
   "metadata": {},
   "outputs": [],
   "source": [
    "trainedModels={}"
   ]
  },
  {
   "cell_type": "code",
   "execution_count": 11,
   "metadata": {},
   "outputs": [],
   "source": [
    "#needed to plot asimov significane\n",
    "asimovSigLossSysts=[0.01,0.05,0.1,0.2,0.3,0.4,0.5]"
   ]
  },
  {
   "cell_type": "code",
   "execution_count": 12,
   "metadata": {},
   "outputs": [],
   "source": [
    "# here I have included one archtecture I got from my ES scan, pls comment my entry and use dnn_batch4096 instead.\n",
    "dnnConfigs={\n",
    "    'dnn_ZH_0L_cHW_0d03':{'epochs':20,'batch_size':8192,'dropOut':None,\n",
    "                                      'l2Regularization':None,'hiddenLayers':[1.0],\n",
    "                                      'optimizer':'adam', 'activation':'relu'}     \n",
    "        }"
   ]
  },
  {
   "cell_type": "code",
   "execution_count": 13,
   "metadata": {},
   "outputs": [],
   "source": [
    "#bsmlike signal cHW 0.03: 11.867fb, bg:0.89\n",
    "#inclusive signal cHW 0.001: 2.198fb, bg:2.03fb\n",
    "#inclusive signal cHW 0.01: 4.553fb, bg:2.03fb\n",
    "#inclusive signal cHW 0.03: 14fb, bg:2.03fb\n",
    "\n",
    "lumi=80. #luminosity in /fb\n",
    "expectedSignal=14*lumi \n",
    "expectedBkgd=2.03*lumi #cross section of ttbar sample in fb times efficiency measured by Marco\n",
    "systematic=0.5 #systematic for the asimov signficance"
   ]
  },
  {
   "cell_type": "code",
   "execution_count": 14,
   "metadata": {},
   "outputs": [
    {
     "name": "stderr",
     "output_type": "stream",
     "text": [
      "/home/felipe/hepML/MlClasses/Dnn.py:101: FutureWarning: Method .as_matrix will be removed in a future version. Use .values instead.\n",
      "  self.history = self.model.fit(self.data.X_train.as_matrix(), self.data.y_train.as_matrix(), sample_weight=self.data.weights_train,\n",
      "/home/felipe/hepML/MlClasses/Dnn.py:102: FutureWarning: Method .as_matrix will be removed in a future version. Use .values instead.\n",
      "  validation_data=(self.data.X_test.as_matrix(),self.data.y_test.as_matrix(),self.data.weights_test),\n"
     ]
    },
    {
     "name": "stdout",
     "output_type": "stream",
     "text": [
      "Train on 140000 samples, validate on 60000 samples\n",
      "Epoch 1/20\n",
      "140000/140000 [==============================] - 3s 19us/step - loss: 0.0012 - acc: 0.5095 - sigLoss: -848.0232 - significance: 30.2799 - asimovSignificance: 6.2947 - truePositive: 0.9415 - falsePositive: 0.9211 - val_loss: 0.0010 - val_acc: 0.5008 - val_sigLoss: -960.5424 - val_significance: 31.2756 - val_asimovSignificance: 6.1691 - val_truePositive: 1.0000 - val_falsePositive: 1.0000\n",
      "Epoch 2/20\n",
      "140000/140000 [==============================] - 2s 14us/step - loss: 0.0010 - acc: 0.4997 - sigLoss: -969.9007 - significance: 31.2756 - asimovSignificance: 6.1691 - truePositive: 1.0000 - falsePositive: 1.0000 - val_loss: 0.0010 - val_acc: 0.5008 - val_sigLoss: -974.3738 - val_significance: 31.2756 - val_asimovSignificance: 6.1691 - val_truePositive: 1.0000 - val_falsePositive: 1.0000\n",
      "Epoch 3/20\n",
      "140000/140000 [==============================] - 2s 14us/step - loss: 0.0010 - acc: 0.4997 - sigLoss: -975.8910 - significance: 31.2756 - asimovSignificance: 6.1691 - truePositive: 1.0000 - falsePositive: 1.0000 - val_loss: 0.0010 - val_acc: 0.5008 - val_sigLoss: -976.8260 - val_significance: 31.2756 - val_asimovSignificance: 6.1691 - val_truePositive: 1.0000 - val_falsePositive: 1.0000\n",
      "Epoch 4/20\n",
      "140000/140000 [==============================] - 2s 14us/step - loss: 0.0010 - acc: 0.4997 - sigLoss: -977.2827 - significance: 31.2756 - asimovSignificance: 6.1691 - truePositive: 1.0000 - falsePositive: 1.0000 - val_loss: 0.0010 - val_acc: 0.5008 - val_sigLoss: -977.5926 - val_significance: 31.2756 - val_asimovSignificance: 6.1691 - val_truePositive: 1.0000 - val_falsePositive: 1.0000\n",
      "Epoch 5/20\n",
      "140000/140000 [==============================] - 2s 14us/step - loss: 0.0010 - acc: 0.4997 - sigLoss: -977.7709 - significance: 31.2756 - asimovSignificance: 6.1691 - truePositive: 1.0000 - falsePositive: 1.0000 - val_loss: 0.0010 - val_acc: 0.5008 - val_sigLoss: -977.8957 - val_significance: 31.2756 - val_asimovSignificance: 6.1691 - val_truePositive: 1.0000 - val_falsePositive: 1.0000\n",
      "Epoch 6/20\n",
      "140000/140000 [==============================] - 2s 14us/step - loss: 0.0010 - acc: 0.4997 - sigLoss: -977.9745 - significance: 31.2756 - asimovSignificance: 6.1691 - truePositive: 1.0000 - falsePositive: 1.0000 - val_loss: 0.0010 - val_acc: 0.5008 - val_sigLoss: -978.0308 - val_significance: 31.2756 - val_asimovSignificance: 6.1691 - val_truePositive: 1.0000 - val_falsePositive: 1.0000\n",
      "Epoch 7/20\n",
      "140000/140000 [==============================] - 2s 14us/step - loss: 0.0010 - acc: 0.4997 - sigLoss: -978.0685 - significance: 31.2756 - asimovSignificance: 6.1691 - truePositive: 1.0000 - falsePositive: 1.0000 - val_loss: 0.0010 - val_acc: 0.5008 - val_sigLoss: -978.0957 - val_significance: 31.2756 - val_asimovSignificance: 6.1691 - val_truePositive: 1.0000 - val_falsePositive: 1.0000\n",
      "Epoch 8/20\n",
      "140000/140000 [==============================] - 2s 14us/step - loss: 0.0010 - acc: 0.4997 - sigLoss: -978.1145 - significance: 31.2756 - asimovSignificance: 6.1691 - truePositive: 1.0000 - falsePositive: 1.0000 - val_loss: 0.0010 - val_acc: 0.5008 - val_sigLoss: -978.1282 - val_significance: 31.2756 - val_asimovSignificance: 6.1691 - val_truePositive: 1.0000 - val_falsePositive: 1.0000\n",
      "Epoch 9/20\n",
      "140000/140000 [==============================] - 2s 14us/step - loss: 0.0010 - acc: 0.4997 - sigLoss: -978.1379 - significance: 31.2756 - asimovSignificance: 6.1691 - truePositive: 1.0000 - falsePositive: 1.0000 - val_loss: 0.0010 - val_acc: 0.5008 - val_sigLoss: -978.1450 - val_significance: 31.2756 - val_asimovSignificance: 6.1691 - val_truePositive: 1.0000 - val_falsePositive: 1.0000\n",
      "Epoch 10/20\n",
      "140000/140000 [==============================] - 2s 14us/step - loss: 0.0010 - acc: 0.4997 - sigLoss: -978.1501 - significance: 31.2756 - asimovSignificance: 6.1691 - truePositive: 1.0000 - falsePositive: 1.0000 - val_loss: 0.0010 - val_acc: 0.5008 - val_sigLoss: -978.1539 - val_significance: 31.2756 - val_asimovSignificance: 6.1691 - val_truePositive: 1.0000 - val_falsePositive: 1.0000\n",
      "Epoch 11/20\n",
      "140000/140000 [==============================] - 2s 14us/step - loss: 0.0010 - acc: 0.4997 - sigLoss: -978.1567 - significance: 31.2756 - asimovSignificance: 6.1691 - truePositive: 1.0000 - falsePositive: 1.0000 - val_loss: 0.0010 - val_acc: 0.5008 - val_sigLoss: -978.1587 - val_significance: 31.2756 - val_asimovSignificance: 6.1691 - val_truePositive: 1.0000 - val_falsePositive: 1.0000\n",
      "Epoch 12/20\n",
      "140000/140000 [==============================] - 2s 15us/step - loss: 0.0010 - acc: 0.4997 - sigLoss: -978.1603 - significance: 31.2756 - asimovSignificance: 6.1691 - truePositive: 1.0000 - falsePositive: 1.0000 - val_loss: 0.0010 - val_acc: 0.5008 - val_sigLoss: -978.1614 - val_significance: 31.2756 - val_asimovSignificance: 6.1691 - val_truePositive: 1.0000 - val_falsePositive: 1.0000\n",
      "Epoch 13/20\n",
      "140000/140000 [==============================] - 2s 14us/step - loss: 0.0010 - acc: 0.4997 - sigLoss: -978.1623 - significance: 31.2756 - asimovSignificance: 6.1691 - truePositive: 1.0000 - falsePositive: 1.0000 - val_loss: 0.0010 - val_acc: 0.5008 - val_sigLoss: -978.1630 - val_significance: 31.2756 - val_asimovSignificance: 6.1691 - val_truePositive: 1.0000 - val_falsePositive: 1.0000\n",
      "Epoch 14/20\n",
      "140000/140000 [==============================] - 2s 14us/step - loss: 0.0010 - acc: 0.4997 - sigLoss: -978.1635 - significance: 31.2756 - asimovSignificance: 6.1691 - truePositive: 1.0000 - falsePositive: 1.0000 - val_loss: 0.0010 - val_acc: 0.5008 - val_sigLoss: -978.1639 - val_significance: 31.2756 - val_asimovSignificance: 6.1691 - val_truePositive: 1.0000 - val_falsePositive: 1.0000\n",
      "Epoch 15/20\n",
      "140000/140000 [==============================] - 2s 14us/step - loss: 0.0010 - acc: 0.4997 - sigLoss: -978.1642 - significance: 31.2756 - asimovSignificance: 6.1691 - truePositive: 1.0000 - falsePositive: 1.0000 - val_loss: 0.0010 - val_acc: 0.5008 - val_sigLoss: -978.1645 - val_significance: 31.2756 - val_asimovSignificance: 6.1691 - val_truePositive: 1.0000 - val_falsePositive: 1.0000\n",
      "Epoch 16/20\n",
      "140000/140000 [==============================] - 2s 14us/step - loss: 0.0010 - acc: 0.4997 - sigLoss: -978.1647 - significance: 31.2756 - asimovSignificance: 6.1691 - truePositive: 1.0000 - falsePositive: 1.0000 - val_loss: 0.0010 - val_acc: 0.5008 - val_sigLoss: -978.1648 - val_significance: 31.2756 - val_asimovSignificance: 6.1691 - val_truePositive: 1.0000 - val_falsePositive: 1.0000\n",
      "Epoch 17/20\n",
      "140000/140000 [==============================] - 2s 15us/step - loss: 0.0010 - acc: 0.4997 - sigLoss: -978.1650 - significance: 31.2756 - asimovSignificance: 6.1691 - truePositive: 1.0000 - falsePositive: 1.0000 - val_loss: 0.0010 - val_acc: 0.5008 - val_sigLoss: -978.1651 - val_significance: 31.2756 - val_asimovSignificance: 6.1691 - val_truePositive: 1.0000 - val_falsePositive: 1.0000\n",
      "Epoch 18/20\n",
      "140000/140000 [==============================] - 2s 14us/step - loss: 0.0010 - acc: 0.4997 - sigLoss: -978.1652 - significance: 31.2756 - asimovSignificance: 6.1691 - truePositive: 1.0000 - falsePositive: 1.0000 - val_loss: 0.0010 - val_acc: 0.5008 - val_sigLoss: -978.1652 - val_significance: 31.2756 - val_asimovSignificance: 6.1691 - val_truePositive: 1.0000 - val_falsePositive: 1.0000\n",
      "Epoch 19/20\n",
      "140000/140000 [==============================] - 2s 15us/step - loss: 0.0010 - acc: 0.4997 - sigLoss: -978.1653 - significance: 31.2756 - asimovSignificance: 6.1691 - truePositive: 1.0000 - falsePositive: 1.0000 - val_loss: 0.0010 - val_acc: 0.5008 - val_sigLoss: -978.1654 - val_significance: 31.2756 - val_asimovSignificance: 6.1691 - val_truePositive: 1.0000 - val_falsePositive: 1.0000\n",
      "Epoch 20/20\n",
      "140000/140000 [==============================] - 2s 14us/step - loss: 0.0010 - acc: 0.4997 - sigLoss: -978.1654 - significance: 31.2756 - asimovSignificance: 6.1691 - truePositive: 1.0000 - falsePositive: 1.0000 - val_loss: 0.0010 - val_acc: 0.5008 - val_sigLoss: -978.1654 - val_significance: 31.2756 - val_asimovSignificance: 6.1691 - val_truePositive: 1.0000 - val_falsePositive: 1.0000\n",
      "60000/60000 [==============================] - 0s 0us/step\n"
     ]
    },
    {
     "name": "stderr",
     "output_type": "stream",
     "text": [
      "/home/felipe/hepML/MlClasses/Dnn.py:221: FutureWarning: Method .as_matrix will be removed in a future version. Use .values instead.\n",
      "  report = self.model.evaluate(X_test.as_matrix(), y_test.as_matrix(), sample_weight=weights_test, batch_size=batchSize)\n",
      "/home/felipe/hepML/MlClasses/Dnn.py:227: FutureWarning: Method .as_matrix will be removed in a future version. Use .values instead.\n",
      "  classificationReport(self.model.predict_classes(X_test.as_matrix()),self.model.predict(X_test.as_matrix()),y_test,f)\n"
     ]
    },
    {
     "name": "stdout",
     "output_type": "stream",
     "text": [
      "140000/140000 [==============================] - 0s 0us/step\n"
     ]
    },
    {
     "name": "stderr",
     "output_type": "stream",
     "text": [
      "/home/felipe/anaconda3/envs/tf-gpu/lib/python3.6/site-packages/sklearn/metrics/classification.py:1143: UndefinedMetricWarning: Precision and F-score are ill-defined and being set to 0.0 in labels with no predicted samples.\n",
      "  'precision', 'predicted', average, warn_for)\n",
      "/home/felipe/hepML/MlClasses/Dnn.py:232: FutureWarning: Method .as_matrix will be removed in a future version. Use .values instead.\n",
      "  report = self.model.evaluate(X_train.as_matrix(), y_train.as_matrix(), sample_weight=weights_train, batch_size=batchSize)\n",
      "/home/felipe/hepML/MlClasses/Dnn.py:236: FutureWarning: Method .as_matrix will be removed in a future version. Use .values instead.\n",
      "  classificationReport(self.model.predict_classes(X_train.as_matrix()),self.model.predict(X_train.as_matrix()),y_train,f)\n",
      "/home/felipe/anaconda3/envs/tf-gpu/lib/python3.6/site-packages/sklearn/metrics/classification.py:1143: UndefinedMetricWarning: Precision and F-score are ill-defined and being set to 0.0 in labels with no predicted samples.\n",
      "  'precision', 'predicted', average, warn_for)\n",
      "/home/felipe/hepML/MlClasses/Dnn.py:254: FutureWarning: Method .as_matrix will be removed in a future version. Use .values instead.\n",
      "  rocCurve(self.model.predict(self.data.X_test.as_matrix()), self.data.y_test,self.output)\n",
      "/home/felipe/hepML/MlClasses/Dnn.py:255: FutureWarning: Method .as_matrix will be removed in a future version. Use .values instead.\n",
      "  rocCurve(self.model.predict(self.data.X_train.as_matrix()),self.data.y_train,self.output,append='_train')\n",
      "/home/felipe/hepML/MlClasses/Dnn.py:263: FutureWarning: Method .as_matrix will be removed in a future version. Use .values instead.\n",
      "  compareTrainTest(self.model.predict,self.data.X_train.as_matrix(),self.data.y_train.as_matrix(),\\\n",
      "/home/felipe/hepML/MlClasses/Dnn.py:264: FutureWarning: Method .as_matrix will be removed in a future version. Use .values instead.\n",
      "  self.data.X_test.as_matrix(),self.data.y_test.as_matrix(),self.output)\n",
      "/home/felipe/anaconda3/envs/tf-gpu/lib/python3.6/site-packages/matplotlib/axes/_axes.py:6521: MatplotlibDeprecationWarning: \n",
      "The 'normed' kwarg was deprecated in Matplotlib 2.1 and will be removed in 3.1. Use 'density' instead.\n",
      "  alternative=\"'density'\", removal=\"3.1\")\n",
      "/home/felipe/hepML/MlClasses/PerformanceTests.py:79: VisibleDeprecationWarning: Passing `normed=True` on non-uniform bins has always been broken, and computes neither the probability density function nor the probability mass function. The result is only correct if the bins are uniform, when density=True will produce the same result anyway. The argument will be removed in a future version of numpy.\n",
      "  bins=bins, range=low_high, normed=True)\n",
      "/home/felipe/hepML/MlClasses/PerformanceTests.py:88: VisibleDeprecationWarning: Passing `normed=True` on non-uniform bins has always been broken, and computes neither the probability density function nor the probability mass function. The result is only correct if the bins are uniform, when density=True will produce the same result anyway. The argument will be removed in a future version of numpy.\n",
      "  bins=bins, range=low_high, normed=True)\n"
     ]
    },
    {
     "name": "stdout",
     "output_type": "stream",
     "text": [
      "Train on 140000 samples, validate on 60000 samples\n",
      "Epoch 1/20\n",
      " 49152/140000 [=========>....................] - ETA: 0s - loss: 0.0010 - acc: 0.5021 - sigLoss: -978.1654 - significance: 31.2756 - asimovSignificance: 6.1691 - truePositive: 1.0000 - falsePositive: 1.0000"
     ]
    },
    {
     "name": "stderr",
     "output_type": "stream",
     "text": [
      "/home/felipe/hepML/MlClasses/Dnn.py:101: FutureWarning: Method .as_matrix will be removed in a future version. Use .values instead.\n",
      "  self.history = self.model.fit(self.data.X_train.as_matrix(), self.data.y_train.as_matrix(), sample_weight=self.data.weights_train,\n",
      "/home/felipe/hepML/MlClasses/Dnn.py:102: FutureWarning: Method .as_matrix will be removed in a future version. Use .values instead.\n",
      "  validation_data=(self.data.X_test.as_matrix(),self.data.y_test.as_matrix(),self.data.weights_test),\n"
     ]
    },
    {
     "name": "stdout",
     "output_type": "stream",
     "text": [
      "140000/140000 [==============================] - 1s 4us/step - loss: 0.0010 - acc: 0.4997 - sigLoss: -978.1655 - significance: 31.2756 - asimovSignificance: 6.1691 - truePositive: 1.0000 - falsePositive: 1.0000 - val_loss: 0.0010 - val_acc: 0.5008 - val_sigLoss: -978.1654 - val_significance: 31.2756 - val_asimovSignificance: 6.1691 - val_truePositive: 1.0000 - val_falsePositive: 1.0000\n",
      "Epoch 2/20\n",
      "140000/140000 [==============================] - 1s 4us/step - loss: 0.0010 - acc: 0.4997 - sigLoss: -978.1655 - significance: 31.2756 - asimovSignificance: 6.1691 - truePositive: 1.0000 - falsePositive: 1.0000 - val_loss: 0.0010 - val_acc: 0.5008 - val_sigLoss: -978.1655 - val_significance: 31.2756 - val_asimovSignificance: 6.1691 - val_truePositive: 1.0000 - val_falsePositive: 1.0000\n",
      "Epoch 3/20\n",
      "140000/140000 [==============================] - 1s 4us/step - loss: 0.0010 - acc: 0.4997 - sigLoss: -978.1655 - significance: 31.2756 - asimovSignificance: 6.1691 - truePositive: 1.0000 - falsePositive: 1.0000 - val_loss: 0.0010 - val_acc: 0.5008 - val_sigLoss: -978.1655 - val_significance: 31.2756 - val_asimovSignificance: 6.1691 - val_truePositive: 1.0000 - val_falsePositive: 1.0000\n",
      "Epoch 4/20\n",
      "140000/140000 [==============================] - 1s 4us/step - loss: 0.0010 - acc: 0.4997 - sigLoss: -978.1655 - significance: 31.2756 - asimovSignificance: 6.1691 - truePositive: 1.0000 - falsePositive: 1.0000 - val_loss: 0.0010 - val_acc: 0.5008 - val_sigLoss: -978.1655 - val_significance: 31.2756 - val_asimovSignificance: 6.1691 - val_truePositive: 1.0000 - val_falsePositive: 1.0000\n",
      "Epoch 5/20\n",
      "140000/140000 [==============================] - 1s 4us/step - loss: 0.0010 - acc: 0.4997 - sigLoss: -978.1655 - significance: 31.2756 - asimovSignificance: 6.1691 - truePositive: 1.0000 - falsePositive: 1.0000 - val_loss: 0.0010 - val_acc: 0.5008 - val_sigLoss: -978.1655 - val_significance: 31.2756 - val_asimovSignificance: 6.1691 - val_truePositive: 1.0000 - val_falsePositive: 1.0000\n",
      "Epoch 6/20\n",
      "140000/140000 [==============================] - 1s 4us/step - loss: 0.0010 - acc: 0.4997 - sigLoss: -978.1655 - significance: 31.2756 - asimovSignificance: 6.1691 - truePositive: 1.0000 - falsePositive: 1.0000 - val_loss: 0.0010 - val_acc: 0.5008 - val_sigLoss: -978.1655 - val_significance: 31.2756 - val_asimovSignificance: 6.1691 - val_truePositive: 1.0000 - val_falsePositive: 1.0000\n",
      "Epoch 7/20\n",
      "140000/140000 [==============================] - 1s 4us/step - loss: 0.0010 - acc: 0.4997 - sigLoss: -978.1655 - significance: 31.2756 - asimovSignificance: 6.1691 - truePositive: 1.0000 - falsePositive: 1.0000 - val_loss: 0.0010 - val_acc: 0.5008 - val_sigLoss: -978.1655 - val_significance: 31.2756 - val_asimovSignificance: 6.1691 - val_truePositive: 1.0000 - val_falsePositive: 1.0000\n",
      "Epoch 8/20\n",
      "140000/140000 [==============================] - 1s 4us/step - loss: 0.0010 - acc: 0.4997 - sigLoss: -978.1655 - significance: 31.2756 - asimovSignificance: 6.1691 - truePositive: 1.0000 - falsePositive: 1.0000 - val_loss: 0.0010 - val_acc: 0.5008 - val_sigLoss: -978.1655 - val_significance: 31.2756 - val_asimovSignificance: 6.1691 - val_truePositive: 1.0000 - val_falsePositive: 1.0000\n",
      "Epoch 9/20\n",
      "140000/140000 [==============================] - 1s 4us/step - loss: 0.0010 - acc: 0.4997 - sigLoss: -978.1655 - significance: 31.2756 - asimovSignificance: 6.1691 - truePositive: 1.0000 - falsePositive: 1.0000 - val_loss: 0.0010 - val_acc: 0.5008 - val_sigLoss: -978.1656 - val_significance: 31.2756 - val_asimovSignificance: 6.1691 - val_truePositive: 1.0000 - val_falsePositive: 1.0000\n",
      "Epoch 10/20\n",
      "140000/140000 [==============================] - 1s 4us/step - loss: 0.0010 - acc: 0.4997 - sigLoss: -978.1656 - significance: 31.2756 - asimovSignificance: 6.1691 - truePositive: 1.0000 - falsePositive: 1.0000 - val_loss: 0.0010 - val_acc: 0.5008 - val_sigLoss: -978.1656 - val_significance: 31.2756 - val_asimovSignificance: 6.1691 - val_truePositive: 1.0000 - val_falsePositive: 1.0000\n",
      "Epoch 11/20\n",
      "140000/140000 [==============================] - 1s 4us/step - loss: 0.0010 - acc: 0.4997 - sigLoss: -978.1656 - significance: 31.2756 - asimovSignificance: 6.1691 - truePositive: 1.0000 - falsePositive: 1.0000 - val_loss: 0.0010 - val_acc: 0.5008 - val_sigLoss: -978.1656 - val_significance: 31.2756 - val_asimovSignificance: 6.1691 - val_truePositive: 1.0000 - val_falsePositive: 1.0000\n",
      "Epoch 12/20\n",
      "140000/140000 [==============================] - 1s 4us/step - loss: 0.0010 - acc: 0.4997 - sigLoss: -978.1656 - significance: 31.2756 - asimovSignificance: 6.1691 - truePositive: 1.0000 - falsePositive: 1.0000 - val_loss: 0.0010 - val_acc: 0.5008 - val_sigLoss: -978.1656 - val_significance: 31.2756 - val_asimovSignificance: 6.1691 - val_truePositive: 1.0000 - val_falsePositive: 1.0000\n",
      "Epoch 13/20\n",
      "140000/140000 [==============================] - 1s 4us/step - loss: 0.0010 - acc: 0.4997 - sigLoss: -978.1656 - significance: 31.2756 - asimovSignificance: 6.1691 - truePositive: 1.0000 - falsePositive: 1.0000 - val_loss: 0.0010 - val_acc: 0.5008 - val_sigLoss: -978.1656 - val_significance: 31.2756 - val_asimovSignificance: 6.1691 - val_truePositive: 1.0000 - val_falsePositive: 1.0000\n",
      "Epoch 14/20\n",
      "140000/140000 [==============================] - 1s 4us/step - loss: 0.0010 - acc: 0.4997 - sigLoss: -978.1656 - significance: 31.2756 - asimovSignificance: 6.1691 - truePositive: 1.0000 - falsePositive: 1.0000 - val_loss: 0.0010 - val_acc: 0.5008 - val_sigLoss: -978.1656 - val_significance: 31.2756 - val_asimovSignificance: 6.1691 - val_truePositive: 1.0000 - val_falsePositive: 1.0000\n",
      "Epoch 15/20\n",
      "140000/140000 [==============================] - 1s 4us/step - loss: 0.0010 - acc: 0.4997 - sigLoss: -978.1656 - significance: 31.2756 - asimovSignificance: 6.1691 - truePositive: 1.0000 - falsePositive: 1.0000 - val_loss: 0.0010 - val_acc: 0.5008 - val_sigLoss: -978.1656 - val_significance: 31.2756 - val_asimovSignificance: 6.1691 - val_truePositive: 1.0000 - val_falsePositive: 1.0000\n",
      "Epoch 16/20\n",
      "140000/140000 [==============================] - 1s 4us/step - loss: 0.0010 - acc: 0.4997 - sigLoss: -978.1656 - significance: 31.2756 - asimovSignificance: 6.1691 - truePositive: 1.0000 - falsePositive: 1.0000 - val_loss: 0.0010 - val_acc: 0.5008 - val_sigLoss: -978.1656 - val_significance: 31.2756 - val_asimovSignificance: 6.1691 - val_truePositive: 1.0000 - val_falsePositive: 1.0000\n",
      "Epoch 17/20\n",
      "140000/140000 [==============================] - 1s 4us/step - loss: 0.0010 - acc: 0.4997 - sigLoss: -978.1656 - significance: 31.2756 - asimovSignificance: 6.1691 - truePositive: 1.0000 - falsePositive: 1.0000 - val_loss: 0.0010 - val_acc: 0.5008 - val_sigLoss: -978.1656 - val_significance: 31.2756 - val_asimovSignificance: 6.1691 - val_truePositive: 1.0000 - val_falsePositive: 1.0000\n",
      "Epoch 18/20\n",
      "140000/140000 [==============================] - 1s 5us/step - loss: 0.0010 - acc: 0.4997 - sigLoss: -978.1656 - significance: 31.2756 - asimovSignificance: 6.1691 - truePositive: 1.0000 - falsePositive: 1.0000 - val_loss: 0.0010 - val_acc: 0.5008 - val_sigLoss: -978.1656 - val_significance: 31.2756 - val_asimovSignificance: 6.1691 - val_truePositive: 1.0000 - val_falsePositive: 1.0000\n",
      "Epoch 19/20\n",
      "140000/140000 [==============================] - 1s 5us/step - loss: 0.0010 - acc: 0.4997 - sigLoss: -978.1656 - significance: 31.2756 - asimovSignificance: 6.1691 - truePositive: 1.0000 - falsePositive: 1.0000 - val_loss: 0.0010 - val_acc: 0.5008 - val_sigLoss: -978.1657 - val_significance: 31.2756 - val_asimovSignificance: 6.1691 - val_truePositive: 1.0000 - val_falsePositive: 1.0000\n",
      "Epoch 20/20\n",
      "140000/140000 [==============================] - 1s 5us/step - loss: 0.0010 - acc: 0.4997 - sigLoss: -978.1657 - significance: 31.2756 - asimovSignificance: 6.1691 - truePositive: 1.0000 - falsePositive: 1.0000 - val_loss: 0.0010 - val_acc: 0.5008 - val_sigLoss: -978.1657 - val_significance: 31.2756 - val_asimovSignificance: 6.1691 - val_truePositive: 1.0000 - val_falsePositive: 1.0000\n",
      "60000/60000 [==============================] - 0s 0us/step\n"
     ]
    },
    {
     "name": "stderr",
     "output_type": "stream",
     "text": [
      "/home/felipe/hepML/MlClasses/Dnn.py:221: FutureWarning: Method .as_matrix will be removed in a future version. Use .values instead.\n",
      "  report = self.model.evaluate(X_test.as_matrix(), y_test.as_matrix(), sample_weight=weights_test, batch_size=batchSize)\n",
      "/home/felipe/hepML/MlClasses/Dnn.py:227: FutureWarning: Method .as_matrix will be removed in a future version. Use .values instead.\n",
      "  classificationReport(self.model.predict_classes(X_test.as_matrix()),self.model.predict(X_test.as_matrix()),y_test,f)\n"
     ]
    },
    {
     "name": "stdout",
     "output_type": "stream",
     "text": [
      "140000/140000 [==============================] - 0s 0us/step\n"
     ]
    },
    {
     "name": "stderr",
     "output_type": "stream",
     "text": [
      "/home/felipe/anaconda3/envs/tf-gpu/lib/python3.6/site-packages/sklearn/metrics/classification.py:1143: UndefinedMetricWarning: Precision and F-score are ill-defined and being set to 0.0 in labels with no predicted samples.\n",
      "  'precision', 'predicted', average, warn_for)\n",
      "/home/felipe/hepML/MlClasses/Dnn.py:232: FutureWarning: Method .as_matrix will be removed in a future version. Use .values instead.\n",
      "  report = self.model.evaluate(X_train.as_matrix(), y_train.as_matrix(), sample_weight=weights_train, batch_size=batchSize)\n",
      "/home/felipe/hepML/MlClasses/Dnn.py:236: FutureWarning: Method .as_matrix will be removed in a future version. Use .values instead.\n",
      "  classificationReport(self.model.predict_classes(X_train.as_matrix()),self.model.predict(X_train.as_matrix()),y_train,f)\n",
      "/home/felipe/anaconda3/envs/tf-gpu/lib/python3.6/site-packages/sklearn/metrics/classification.py:1143: UndefinedMetricWarning: Precision and F-score are ill-defined and being set to 0.0 in labels with no predicted samples.\n",
      "  'precision', 'predicted', average, warn_for)\n",
      "/home/felipe/hepML/MlClasses/Dnn.py:254: FutureWarning: Method .as_matrix will be removed in a future version. Use .values instead.\n",
      "  rocCurve(self.model.predict(self.data.X_test.as_matrix()), self.data.y_test,self.output)\n",
      "/home/felipe/hepML/MlClasses/Dnn.py:255: FutureWarning: Method .as_matrix will be removed in a future version. Use .values instead.\n",
      "  rocCurve(self.model.predict(self.data.X_train.as_matrix()),self.data.y_train,self.output,append='_train')\n",
      "/home/felipe/hepML/MlClasses/Dnn.py:263: FutureWarning: Method .as_matrix will be removed in a future version. Use .values instead.\n",
      "  compareTrainTest(self.model.predict,self.data.X_train.as_matrix(),self.data.y_train.as_matrix(),\\\n",
      "/home/felipe/hepML/MlClasses/Dnn.py:264: FutureWarning: Method .as_matrix will be removed in a future version. Use .values instead.\n",
      "  self.data.X_test.as_matrix(),self.data.y_test.as_matrix(),self.output)\n",
      "/home/felipe/anaconda3/envs/tf-gpu/lib/python3.6/site-packages/matplotlib/axes/_axes.py:6521: MatplotlibDeprecationWarning: \n",
      "The 'normed' kwarg was deprecated in Matplotlib 2.1 and will be removed in 3.1. Use 'density' instead.\n",
      "  alternative=\"'density'\", removal=\"3.1\")\n",
      "/home/felipe/hepML/MlClasses/PerformanceTests.py:79: VisibleDeprecationWarning: Passing `normed=True` on non-uniform bins has always been broken, and computes neither the probability density function nor the probability mass function. The result is only correct if the bins are uniform, when density=True will produce the same result anyway. The argument will be removed in a future version of numpy.\n",
      "  bins=bins, range=low_high, normed=True)\n",
      "/home/felipe/hepML/MlClasses/PerformanceTests.py:88: VisibleDeprecationWarning: Passing `normed=True` on non-uniform bins has always been broken, and computes neither the probability density function nor the probability mass function. The result is only correct if the bins are uniform, when density=True will produce the same result anyway. The argument will be removed in a future version of numpy.\n",
      "  bins=bins, range=low_high, normed=True)\n"
     ]
    },
    {
     "name": "stdout",
     "output_type": "stream",
     "text": [
      "Train on 140000 samples, validate on 60000 samples\n",
      "Epoch 1/20\n",
      " 86016/140000 [=================>............] - ETA: 0s - loss: 0.0010 - acc: 0.4990 - sigLoss: -978.1657 - significance: 31.2756 - asimovSignificance: 6.1691 - truePositive: 1.0000 - falsePositive: 1.0000"
     ]
    },
    {
     "name": "stderr",
     "output_type": "stream",
     "text": [
      "/home/felipe/hepML/MlClasses/Dnn.py:101: FutureWarning: Method .as_matrix will be removed in a future version. Use .values instead.\n",
      "  self.history = self.model.fit(self.data.X_train.as_matrix(), self.data.y_train.as_matrix(), sample_weight=self.data.weights_train,\n",
      "/home/felipe/hepML/MlClasses/Dnn.py:102: FutureWarning: Method .as_matrix will be removed in a future version. Use .values instead.\n",
      "  validation_data=(self.data.X_test.as_matrix(),self.data.y_test.as_matrix(),self.data.weights_test),\n"
     ]
    },
    {
     "name": "stdout",
     "output_type": "stream",
     "text": [
      "140000/140000 [==============================] - 0s 2us/step - loss: 0.0010 - acc: 0.4997 - sigLoss: -978.1657 - significance: 31.2756 - asimovSignificance: 6.1691 - truePositive: 1.0000 - falsePositive: 1.0000 - val_loss: 0.0010 - val_acc: 0.5008 - val_sigLoss: -978.1657 - val_significance: 31.2756 - val_asimovSignificance: 6.1691 - val_truePositive: 1.0000 - val_falsePositive: 1.0000\n",
      "Epoch 2/20\n",
      "140000/140000 [==============================] - 0s 2us/step - loss: 0.0010 - acc: 0.4997 - sigLoss: -978.1657 - significance: 31.2756 - asimovSignificance: 6.1691 - truePositive: 1.0000 - falsePositive: 1.0000 - val_loss: 0.0010 - val_acc: 0.5008 - val_sigLoss: -978.1657 - val_significance: 31.2756 - val_asimovSignificance: 6.1691 - val_truePositive: 1.0000 - val_falsePositive: 1.0000\n",
      "Epoch 3/20\n",
      "140000/140000 [==============================] - 0s 3us/step - loss: 0.0010 - acc: 0.4997 - sigLoss: -978.1657 - significance: 31.2756 - asimovSignificance: 6.1691 - truePositive: 1.0000 - falsePositive: 1.0000 - val_loss: 0.0010 - val_acc: 0.5008 - val_sigLoss: -978.1657 - val_significance: 31.2756 - val_asimovSignificance: 6.1691 - val_truePositive: 1.0000 - val_falsePositive: 1.0000\n",
      "Epoch 4/20\n",
      "140000/140000 [==============================] - 0s 3us/step - loss: 0.0010 - acc: 0.4997 - sigLoss: -978.1657 - significance: 31.2756 - asimovSignificance: 6.1691 - truePositive: 1.0000 - falsePositive: 1.0000 - val_loss: 0.0010 - val_acc: 0.5008 - val_sigLoss: -978.1657 - val_significance: 31.2756 - val_asimovSignificance: 6.1691 - val_truePositive: 1.0000 - val_falsePositive: 1.0000\n",
      "Epoch 5/20\n",
      "140000/140000 [==============================] - 0s 3us/step - loss: 0.0010 - acc: 0.4997 - sigLoss: -978.1657 - significance: 31.2756 - asimovSignificance: 6.1691 - truePositive: 1.0000 - falsePositive: 1.0000 - val_loss: 0.0010 - val_acc: 0.5008 - val_sigLoss: -978.1657 - val_significance: 31.2756 - val_asimovSignificance: 6.1691 - val_truePositive: 1.0000 - val_falsePositive: 1.0000\n",
      "Epoch 6/20\n",
      "140000/140000 [==============================] - 0s 3us/step - loss: 0.0010 - acc: 0.4997 - sigLoss: -978.1657 - significance: 31.2756 - asimovSignificance: 6.1691 - truePositive: 1.0000 - falsePositive: 1.0000 - val_loss: 0.0010 - val_acc: 0.5008 - val_sigLoss: -978.1657 - val_significance: 31.2756 - val_asimovSignificance: 6.1691 - val_truePositive: 1.0000 - val_falsePositive: 1.0000\n",
      "Epoch 7/20\n",
      "140000/140000 [==============================] - 0s 3us/step - loss: 0.0010 - acc: 0.4997 - sigLoss: -978.1657 - significance: 31.2756 - asimovSignificance: 6.1691 - truePositive: 1.0000 - falsePositive: 1.0000 - val_loss: 0.0010 - val_acc: 0.5008 - val_sigLoss: -978.1657 - val_significance: 31.2756 - val_asimovSignificance: 6.1691 - val_truePositive: 1.0000 - val_falsePositive: 1.0000\n",
      "Epoch 8/20\n",
      "140000/140000 [==============================] - 0s 3us/step - loss: 0.0010 - acc: 0.4997 - sigLoss: -978.1657 - significance: 31.2756 - asimovSignificance: 6.1691 - truePositive: 1.0000 - falsePositive: 1.0000 - val_loss: 0.0010 - val_acc: 0.5008 - val_sigLoss: -978.1657 - val_significance: 31.2756 - val_asimovSignificance: 6.1691 - val_truePositive: 1.0000 - val_falsePositive: 1.0000\n",
      "Epoch 9/20\n",
      "140000/140000 [==============================] - 0s 3us/step - loss: 0.0010 - acc: 0.4997 - sigLoss: -978.1657 - significance: 31.2756 - asimovSignificance: 6.1691 - truePositive: 1.0000 - falsePositive: 1.0000 - val_loss: 0.0010 - val_acc: 0.5008 - val_sigLoss: -978.1657 - val_significance: 31.2756 - val_asimovSignificance: 6.1691 - val_truePositive: 1.0000 - val_falsePositive: 1.0000\n",
      "Epoch 10/20\n",
      "140000/140000 [==============================] - 0s 2us/step - loss: 0.0010 - acc: 0.4997 - sigLoss: -978.1657 - significance: 31.2756 - asimovSignificance: 6.1691 - truePositive: 1.0000 - falsePositive: 1.0000 - val_loss: 0.0010 - val_acc: 0.5008 - val_sigLoss: -978.1657 - val_significance: 31.2756 - val_asimovSignificance: 6.1691 - val_truePositive: 1.0000 - val_falsePositive: 1.0000\n",
      "Epoch 11/20\n",
      "140000/140000 [==============================] - 0s 2us/step - loss: 0.0010 - acc: 0.4997 - sigLoss: -978.1657 - significance: 31.2756 - asimovSignificance: 6.1691 - truePositive: 1.0000 - falsePositive: 1.0000 - val_loss: 0.0010 - val_acc: 0.5008 - val_sigLoss: -978.1657 - val_significance: 31.2756 - val_asimovSignificance: 6.1691 - val_truePositive: 1.0000 - val_falsePositive: 1.0000\n",
      "Epoch 12/20\n",
      "140000/140000 [==============================] - 0s 2us/step - loss: 0.0010 - acc: 0.4997 - sigLoss: -978.1658 - significance: 31.2756 - asimovSignificance: 6.1691 - truePositive: 1.0000 - falsePositive: 1.0000 - val_loss: 0.0010 - val_acc: 0.5008 - val_sigLoss: -978.1657 - val_significance: 31.2756 - val_asimovSignificance: 6.1691 - val_truePositive: 1.0000 - val_falsePositive: 1.0000\n",
      "Epoch 13/20\n",
      "140000/140000 [==============================] - 0s 2us/step - loss: 0.0010 - acc: 0.4997 - sigLoss: -978.1657 - significance: 31.2756 - asimovSignificance: 6.1691 - truePositive: 1.0000 - falsePositive: 1.0000 - val_loss: 0.0010 - val_acc: 0.5008 - val_sigLoss: -978.1657 - val_significance: 31.2756 - val_asimovSignificance: 6.1691 - val_truePositive: 1.0000 - val_falsePositive: 1.0000\n",
      "Epoch 14/20\n",
      "140000/140000 [==============================] - 0s 3us/step - loss: 0.0010 - acc: 0.4997 - sigLoss: -978.1657 - significance: 31.2756 - asimovSignificance: 6.1691 - truePositive: 1.0000 - falsePositive: 1.0000 - val_loss: 0.0010 - val_acc: 0.5008 - val_sigLoss: -978.1657 - val_significance: 31.2756 - val_asimovSignificance: 6.1691 - val_truePositive: 1.0000 - val_falsePositive: 1.0000\n",
      "Epoch 15/20\n",
      "140000/140000 [==============================] - 0s 3us/step - loss: 0.0010 - acc: 0.4997 - sigLoss: -978.1657 - significance: 31.2756 - asimovSignificance: 6.1691 - truePositive: 1.0000 - falsePositive: 1.0000 - val_loss: 0.0010 - val_acc: 0.5008 - val_sigLoss: -978.1657 - val_significance: 31.2756 - val_asimovSignificance: 6.1691 - val_truePositive: 1.0000 - val_falsePositive: 1.0000\n",
      "Epoch 16/20\n",
      "140000/140000 [==============================] - 0s 3us/step - loss: 0.0010 - acc: 0.4997 - sigLoss: -978.1657 - significance: 31.2756 - asimovSignificance: 6.1691 - truePositive: 1.0000 - falsePositive: 1.0000 - val_loss: 0.0010 - val_acc: 0.5008 - val_sigLoss: -978.1657 - val_significance: 31.2756 - val_asimovSignificance: 6.1691 - val_truePositive: 1.0000 - val_falsePositive: 1.0000\n",
      "Epoch 17/20\n",
      "140000/140000 [==============================] - 0s 2us/step - loss: 0.0010 - acc: 0.4997 - sigLoss: -978.1658 - significance: 31.2756 - asimovSignificance: 6.1691 - truePositive: 1.0000 - falsePositive: 1.0000 - val_loss: 0.0010 - val_acc: 0.5008 - val_sigLoss: -978.1657 - val_significance: 31.2756 - val_asimovSignificance: 6.1691 - val_truePositive: 1.0000 - val_falsePositive: 1.0000\n",
      "Epoch 18/20\n",
      "140000/140000 [==============================] - 0s 3us/step - loss: 0.0010 - acc: 0.4997 - sigLoss: -978.1657 - significance: 31.2756 - asimovSignificance: 6.1691 - truePositive: 1.0000 - falsePositive: 1.0000 - val_loss: 0.0010 - val_acc: 0.5008 - val_sigLoss: -978.1657 - val_significance: 31.2756 - val_asimovSignificance: 6.1691 - val_truePositive: 1.0000 - val_falsePositive: 1.0000\n",
      "Epoch 19/20\n",
      "140000/140000 [==============================] - 0s 3us/step - loss: 0.0010 - acc: 0.4997 - sigLoss: -978.1658 - significance: 31.2756 - asimovSignificance: 6.1691 - truePositive: 1.0000 - falsePositive: 1.0000 - val_loss: 0.0010 - val_acc: 0.5008 - val_sigLoss: -978.1658 - val_significance: 31.2756 - val_asimovSignificance: 6.1691 - val_truePositive: 1.0000 - val_falsePositive: 1.0000\n",
      "Epoch 20/20\n",
      "140000/140000 [==============================] - 0s 3us/step - loss: 0.0010 - acc: 0.4997 - sigLoss: -978.1657 - significance: 31.2756 - asimovSignificance: 6.1691 - truePositive: 1.0000 - falsePositive: 1.0000 - val_loss: 0.0010 - val_acc: 0.5008 - val_sigLoss: -978.1658 - val_significance: 31.2756 - val_asimovSignificance: 6.1691 - val_truePositive: 1.0000 - val_falsePositive: 1.0000\n",
      "60000/60000 [==============================] - 0s 0us/step\n"
     ]
    },
    {
     "name": "stderr",
     "output_type": "stream",
     "text": [
      "/home/felipe/hepML/MlClasses/Dnn.py:221: FutureWarning: Method .as_matrix will be removed in a future version. Use .values instead.\n",
      "  report = self.model.evaluate(X_test.as_matrix(), y_test.as_matrix(), sample_weight=weights_test, batch_size=batchSize)\n",
      "/home/felipe/hepML/MlClasses/Dnn.py:227: FutureWarning: Method .as_matrix will be removed in a future version. Use .values instead.\n",
      "  classificationReport(self.model.predict_classes(X_test.as_matrix()),self.model.predict(X_test.as_matrix()),y_test,f)\n"
     ]
    },
    {
     "name": "stdout",
     "output_type": "stream",
     "text": [
      "140000/140000 [==============================] - 0s 0us/step\n"
     ]
    },
    {
     "name": "stderr",
     "output_type": "stream",
     "text": [
      "/home/felipe/anaconda3/envs/tf-gpu/lib/python3.6/site-packages/sklearn/metrics/classification.py:1143: UndefinedMetricWarning: Precision and F-score are ill-defined and being set to 0.0 in labels with no predicted samples.\n",
      "  'precision', 'predicted', average, warn_for)\n",
      "/home/felipe/hepML/MlClasses/Dnn.py:232: FutureWarning: Method .as_matrix will be removed in a future version. Use .values instead.\n",
      "  report = self.model.evaluate(X_train.as_matrix(), y_train.as_matrix(), sample_weight=weights_train, batch_size=batchSize)\n",
      "/home/felipe/hepML/MlClasses/Dnn.py:236: FutureWarning: Method .as_matrix will be removed in a future version. Use .values instead.\n",
      "  classificationReport(self.model.predict_classes(X_train.as_matrix()),self.model.predict(X_train.as_matrix()),y_train,f)\n",
      "/home/felipe/anaconda3/envs/tf-gpu/lib/python3.6/site-packages/sklearn/metrics/classification.py:1143: UndefinedMetricWarning: Precision and F-score are ill-defined and being set to 0.0 in labels with no predicted samples.\n",
      "  'precision', 'predicted', average, warn_for)\n",
      "/home/felipe/hepML/MlClasses/Dnn.py:254: FutureWarning: Method .as_matrix will be removed in a future version. Use .values instead.\n",
      "  rocCurve(self.model.predict(self.data.X_test.as_matrix()), self.data.y_test,self.output)\n",
      "/home/felipe/hepML/MlClasses/Dnn.py:255: FutureWarning: Method .as_matrix will be removed in a future version. Use .values instead.\n",
      "  rocCurve(self.model.predict(self.data.X_train.as_matrix()),self.data.y_train,self.output,append='_train')\n",
      "/home/felipe/hepML/MlClasses/Dnn.py:263: FutureWarning: Method .as_matrix will be removed in a future version. Use .values instead.\n",
      "  compareTrainTest(self.model.predict,self.data.X_train.as_matrix(),self.data.y_train.as_matrix(),\\\n",
      "/home/felipe/hepML/MlClasses/Dnn.py:264: FutureWarning: Method .as_matrix will be removed in a future version. Use .values instead.\n",
      "  self.data.X_test.as_matrix(),self.data.y_test.as_matrix(),self.output)\n",
      "/home/felipe/anaconda3/envs/tf-gpu/lib/python3.6/site-packages/matplotlib/axes/_axes.py:6521: MatplotlibDeprecationWarning: \n",
      "The 'normed' kwarg was deprecated in Matplotlib 2.1 and will be removed in 3.1. Use 'density' instead.\n",
      "  alternative=\"'density'\", removal=\"3.1\")\n",
      "/home/felipe/hepML/MlClasses/PerformanceTests.py:79: VisibleDeprecationWarning: Passing `normed=True` on non-uniform bins has always been broken, and computes neither the probability density function nor the probability mass function. The result is only correct if the bins are uniform, when density=True will produce the same result anyway. The argument will be removed in a future version of numpy.\n",
      "  bins=bins, range=low_high, normed=True)\n",
      "/home/felipe/hepML/MlClasses/PerformanceTests.py:88: VisibleDeprecationWarning: Passing `normed=True` on non-uniform bins has always been broken, and computes neither the probability density function nor the probability mass function. The result is only correct if the bins are uniform, when density=True will produce the same result anyway. The argument will be removed in a future version of numpy.\n",
      "  bins=bins, range=low_high, normed=True)\n"
     ]
    },
    {
     "name": "stdout",
     "output_type": "stream",
     "text": [
      "Train on 140000 samples, validate on 60000 samples\n",
      "Epoch 1/20\n",
      "140000/140000 [==============================] - 0s 1us/step - loss: 0.0010 - acc: 0.4997 - sigLoss: -978.1658 - significance: 31.2756 - asimovSignificance: 6.1691 - truePositive: 1.0000 - falsePositive: 1.0000 - val_loss: 0.0010 - val_acc: 0.5008 - val_sigLoss: -978.1658 - val_significance: 31.2756 - val_asimovSignificance: 6.1691 - val_truePositive: 1.0000 - val_falsePositive: 1.0000\n",
      "Epoch 2/20\n",
      "  2048/140000 [..............................] - ETA: 0s - loss: 0.0010 - acc: 0.4995 - sigLoss: -978.1658 - significance: 31.2756 - asimovSignificance: 6.1691 - truePositive: 1.0000 - falsePositive: 1.0000"
     ]
    },
    {
     "name": "stderr",
     "output_type": "stream",
     "text": [
      "/home/felipe/hepML/MlClasses/Dnn.py:101: FutureWarning: Method .as_matrix will be removed in a future version. Use .values instead.\n",
      "  self.history = self.model.fit(self.data.X_train.as_matrix(), self.data.y_train.as_matrix(), sample_weight=self.data.weights_train,\n",
      "/home/felipe/hepML/MlClasses/Dnn.py:102: FutureWarning: Method .as_matrix will be removed in a future version. Use .values instead.\n",
      "  validation_data=(self.data.X_test.as_matrix(),self.data.y_test.as_matrix(),self.data.weights_test),\n"
     ]
    },
    {
     "name": "stdout",
     "output_type": "stream",
     "text": [
      "140000/140000 [==============================] - 0s 1us/step - loss: 0.0010 - acc: 0.4997 - sigLoss: -978.1658 - significance: 31.2756 - asimovSignificance: 6.1691 - truePositive: 1.0000 - falsePositive: 1.0000 - val_loss: 0.0010 - val_acc: 0.5008 - val_sigLoss: -978.1658 - val_significance: 31.2756 - val_asimovSignificance: 6.1691 - val_truePositive: 1.0000 - val_falsePositive: 1.0000\n",
      "Epoch 3/20\n",
      "140000/140000 [==============================] - 0s 2us/step - loss: 0.0010 - acc: 0.4997 - sigLoss: -978.1658 - significance: 31.2756 - asimovSignificance: 6.1691 - truePositive: 1.0000 - falsePositive: 1.0000 - val_loss: 0.0010 - val_acc: 0.5008 - val_sigLoss: -978.1658 - val_significance: 31.2756 - val_asimovSignificance: 6.1691 - val_truePositive: 1.0000 - val_falsePositive: 1.0000\n",
      "Epoch 4/20\n",
      "140000/140000 [==============================] - 0s 1us/step - loss: 0.0010 - acc: 0.4997 - sigLoss: -978.1658 - significance: 31.2756 - asimovSignificance: 6.1691 - truePositive: 1.0000 - falsePositive: 1.0000 - val_loss: 0.0010 - val_acc: 0.5008 - val_sigLoss: -978.1658 - val_significance: 31.2756 - val_asimovSignificance: 6.1691 - val_truePositive: 1.0000 - val_falsePositive: 1.0000\n",
      "Epoch 5/20\n",
      "140000/140000 [==============================] - 0s 1us/step - loss: 0.0010 - acc: 0.4997 - sigLoss: -978.1658 - significance: 31.2756 - asimovSignificance: 6.1691 - truePositive: 1.0000 - falsePositive: 1.0000 - val_loss: 0.0010 - val_acc: 0.5008 - val_sigLoss: -978.1658 - val_significance: 31.2756 - val_asimovSignificance: 6.1691 - val_truePositive: 1.0000 - val_falsePositive: 1.0000\n",
      "Epoch 6/20\n",
      "140000/140000 [==============================] - 0s 1us/step - loss: 0.0010 - acc: 0.4997 - sigLoss: -978.1658 - significance: 31.2756 - asimovSignificance: 6.1691 - truePositive: 1.0000 - falsePositive: 1.0000 - val_loss: 0.0010 - val_acc: 0.5008 - val_sigLoss: -978.1658 - val_significance: 31.2756 - val_asimovSignificance: 6.1691 - val_truePositive: 1.0000 - val_falsePositive: 1.0000\n",
      "60000/60000 [==============================] - 0s 0us/step\n"
     ]
    },
    {
     "name": "stderr",
     "output_type": "stream",
     "text": [
      "/home/felipe/hepML/MlClasses/Dnn.py:221: FutureWarning: Method .as_matrix will be removed in a future version. Use .values instead.\n",
      "  report = self.model.evaluate(X_test.as_matrix(), y_test.as_matrix(), sample_weight=weights_test, batch_size=batchSize)\n",
      "/home/felipe/hepML/MlClasses/Dnn.py:227: FutureWarning: Method .as_matrix will be removed in a future version. Use .values instead.\n",
      "  classificationReport(self.model.predict_classes(X_test.as_matrix()),self.model.predict(X_test.as_matrix()),y_test,f)\n"
     ]
    },
    {
     "name": "stdout",
     "output_type": "stream",
     "text": [
      "140000/140000 [==============================] - 0s 0us/step\n"
     ]
    },
    {
     "name": "stderr",
     "output_type": "stream",
     "text": [
      "/home/felipe/anaconda3/envs/tf-gpu/lib/python3.6/site-packages/sklearn/metrics/classification.py:1143: UndefinedMetricWarning: Precision and F-score are ill-defined and being set to 0.0 in labels with no predicted samples.\n",
      "  'precision', 'predicted', average, warn_for)\n",
      "/home/felipe/hepML/MlClasses/Dnn.py:232: FutureWarning: Method .as_matrix will be removed in a future version. Use .values instead.\n",
      "  report = self.model.evaluate(X_train.as_matrix(), y_train.as_matrix(), sample_weight=weights_train, batch_size=batchSize)\n",
      "/home/felipe/hepML/MlClasses/Dnn.py:236: FutureWarning: Method .as_matrix will be removed in a future version. Use .values instead.\n",
      "  classificationReport(self.model.predict_classes(X_train.as_matrix()),self.model.predict(X_train.as_matrix()),y_train,f)\n",
      "/home/felipe/anaconda3/envs/tf-gpu/lib/python3.6/site-packages/sklearn/metrics/classification.py:1143: UndefinedMetricWarning: Precision and F-score are ill-defined and being set to 0.0 in labels with no predicted samples.\n",
      "  'precision', 'predicted', average, warn_for)\n",
      "/home/felipe/hepML/MlClasses/Dnn.py:254: FutureWarning: Method .as_matrix will be removed in a future version. Use .values instead.\n",
      "  rocCurve(self.model.predict(self.data.X_test.as_matrix()), self.data.y_test,self.output)\n",
      "/home/felipe/hepML/MlClasses/Dnn.py:255: FutureWarning: Method .as_matrix will be removed in a future version. Use .values instead.\n",
      "  rocCurve(self.model.predict(self.data.X_train.as_matrix()),self.data.y_train,self.output,append='_train')\n",
      "/home/felipe/hepML/MlClasses/Dnn.py:263: FutureWarning: Method .as_matrix will be removed in a future version. Use .values instead.\n",
      "  compareTrainTest(self.model.predict,self.data.X_train.as_matrix(),self.data.y_train.as_matrix(),\\\n",
      "/home/felipe/hepML/MlClasses/Dnn.py:264: FutureWarning: Method .as_matrix will be removed in a future version. Use .values instead.\n",
      "  self.data.X_test.as_matrix(),self.data.y_test.as_matrix(),self.output)\n",
      "/home/felipe/anaconda3/envs/tf-gpu/lib/python3.6/site-packages/matplotlib/axes/_axes.py:6521: MatplotlibDeprecationWarning: \n",
      "The 'normed' kwarg was deprecated in Matplotlib 2.1 and will be removed in 3.1. Use 'density' instead.\n",
      "  alternative=\"'density'\", removal=\"3.1\")\n",
      "/home/felipe/hepML/MlClasses/PerformanceTests.py:79: VisibleDeprecationWarning: Passing `normed=True` on non-uniform bins has always been broken, and computes neither the probability density function nor the probability mass function. The result is only correct if the bins are uniform, when density=True will produce the same result anyway. The argument will be removed in a future version of numpy.\n",
      "  bins=bins, range=low_high, normed=True)\n",
      "/home/felipe/hepML/MlClasses/PerformanceTests.py:88: VisibleDeprecationWarning: Passing `normed=True` on non-uniform bins has always been broken, and computes neither the probability density function nor the probability mass function. The result is only correct if the bins are uniform, when density=True will produce the same result anyway. The argument will be removed in a future version of numpy.\n",
      "  bins=bins, range=low_high, normed=True)\n"
     ]
    },
    {
     "name": "stdout",
     "output_type": "stream",
     "text": [
      "Train on 140000 samples, validate on 60000 samples\n",
      "Epoch 1/20\n",
      "140000/140000 [==============================] - 0s 1us/step - loss: 0.0010 - acc: 0.4997 - sigLoss: -978.1658 - significance: 31.2756 - asimovSignificance: 6.1691 - truePositive: 1.0000 - falsePositive: 1.0000 - val_loss: 0.0010 - val_acc: 0.5008 - val_sigLoss: -978.1658 - val_significance: 31.2756 - val_asimovSignificance: 6.1691 - val_truePositive: 1.0000 - val_falsePositive: 1.0000\n",
      "Epoch 2/20\n",
      " 53248/140000 [==========>...................] - ETA: 0s - loss: 0.0010 - acc: 0.5004 - sigLoss: -978.1658 - significance: 31.2756 - asimovSignificance: 6.1691 - truePositive: 1.0000 - falsePositive: 1.0000"
     ]
    },
    {
     "name": "stderr",
     "output_type": "stream",
     "text": [
      "/home/felipe/hepML/MlClasses/Dnn.py:101: FutureWarning: Method .as_matrix will be removed in a future version. Use .values instead.\n",
      "  self.history = self.model.fit(self.data.X_train.as_matrix(), self.data.y_train.as_matrix(), sample_weight=self.data.weights_train,\n",
      "/home/felipe/hepML/MlClasses/Dnn.py:102: FutureWarning: Method .as_matrix will be removed in a future version. Use .values instead.\n",
      "  validation_data=(self.data.X_test.as_matrix(),self.data.y_test.as_matrix(),self.data.weights_test),\n"
     ]
    },
    {
     "name": "stdout",
     "output_type": "stream",
     "text": [
      "140000/140000 [==============================] - 0s 1us/step - loss: 0.0010 - acc: 0.4997 - sigLoss: -978.1658 - significance: 31.2756 - asimovSignificance: 6.1691 - truePositive: 1.0000 - falsePositive: 1.0000 - val_loss: 0.0010 - val_acc: 0.5008 - val_sigLoss: -978.1658 - val_significance: 31.2756 - val_asimovSignificance: 6.1691 - val_truePositive: 1.0000 - val_falsePositive: 1.0000\n",
      "Epoch 3/20\n",
      "140000/140000 [==============================] - 0s 1us/step - loss: 0.0010 - acc: 0.4997 - sigLoss: -978.1658 - significance: 31.2756 - asimovSignificance: 6.1691 - truePositive: 1.0000 - falsePositive: 1.0000 - val_loss: 0.0010 - val_acc: 0.5008 - val_sigLoss: -978.1658 - val_significance: 31.2756 - val_asimovSignificance: 6.1691 - val_truePositive: 1.0000 - val_falsePositive: 1.0000\n",
      "Epoch 4/20\n",
      "140000/140000 [==============================] - 0s 1us/step - loss: 0.0010 - acc: 0.4997 - sigLoss: -978.1658 - significance: 31.2756 - asimovSignificance: 6.1691 - truePositive: 1.0000 - falsePositive: 1.0000 - val_loss: 0.0010 - val_acc: 0.5008 - val_sigLoss: -978.1658 - val_significance: 31.2756 - val_asimovSignificance: 6.1691 - val_truePositive: 1.0000 - val_falsePositive: 1.0000\n",
      "Epoch 5/20\n",
      "140000/140000 [==============================] - 0s 1us/step - loss: 0.0010 - acc: 0.4997 - sigLoss: -978.1658 - significance: 31.2756 - asimovSignificance: 6.1691 - truePositive: 1.0000 - falsePositive: 1.0000 - val_loss: 0.0010 - val_acc: 0.5008 - val_sigLoss: -978.1658 - val_significance: 31.2756 - val_asimovSignificance: 6.1691 - val_truePositive: 1.0000 - val_falsePositive: 1.0000\n",
      "Epoch 6/20\n",
      "140000/140000 [==============================] - 0s 1us/step - loss: 0.0010 - acc: 0.4997 - sigLoss: -978.1658 - significance: 31.2756 - asimovSignificance: 6.1691 - truePositive: 1.0000 - falsePositive: 1.0000 - val_loss: 0.0010 - val_acc: 0.5008 - val_sigLoss: -978.1658 - val_significance: 31.2756 - val_asimovSignificance: 6.1691 - val_truePositive: 1.0000 - val_falsePositive: 1.0000\n",
      "60000/60000 [==============================] - 0s 0us/step\n"
     ]
    },
    {
     "name": "stderr",
     "output_type": "stream",
     "text": [
      "/home/felipe/hepML/MlClasses/Dnn.py:221: FutureWarning: Method .as_matrix will be removed in a future version. Use .values instead.\n",
      "  report = self.model.evaluate(X_test.as_matrix(), y_test.as_matrix(), sample_weight=weights_test, batch_size=batchSize)\n",
      "/home/felipe/hepML/MlClasses/Dnn.py:227: FutureWarning: Method .as_matrix will be removed in a future version. Use .values instead.\n",
      "  classificationReport(self.model.predict_classes(X_test.as_matrix()),self.model.predict(X_test.as_matrix()),y_test,f)\n"
     ]
    },
    {
     "name": "stdout",
     "output_type": "stream",
     "text": [
      "140000/140000 [==============================] - 0s 0us/step\n"
     ]
    },
    {
     "name": "stderr",
     "output_type": "stream",
     "text": [
      "/home/felipe/anaconda3/envs/tf-gpu/lib/python3.6/site-packages/sklearn/metrics/classification.py:1143: UndefinedMetricWarning: Precision and F-score are ill-defined and being set to 0.0 in labels with no predicted samples.\n",
      "  'precision', 'predicted', average, warn_for)\n",
      "/home/felipe/hepML/MlClasses/Dnn.py:232: FutureWarning: Method .as_matrix will be removed in a future version. Use .values instead.\n",
      "  report = self.model.evaluate(X_train.as_matrix(), y_train.as_matrix(), sample_weight=weights_train, batch_size=batchSize)\n",
      "/home/felipe/hepML/MlClasses/Dnn.py:236: FutureWarning: Method .as_matrix will be removed in a future version. Use .values instead.\n",
      "  classificationReport(self.model.predict_classes(X_train.as_matrix()),self.model.predict(X_train.as_matrix()),y_train,f)\n",
      "/home/felipe/anaconda3/envs/tf-gpu/lib/python3.6/site-packages/sklearn/metrics/classification.py:1143: UndefinedMetricWarning: Precision and F-score are ill-defined and being set to 0.0 in labels with no predicted samples.\n",
      "  'precision', 'predicted', average, warn_for)\n",
      "/home/felipe/hepML/MlClasses/Dnn.py:254: FutureWarning: Method .as_matrix will be removed in a future version. Use .values instead.\n",
      "  rocCurve(self.model.predict(self.data.X_test.as_matrix()), self.data.y_test,self.output)\n",
      "/home/felipe/hepML/MlClasses/Dnn.py:255: FutureWarning: Method .as_matrix will be removed in a future version. Use .values instead.\n",
      "  rocCurve(self.model.predict(self.data.X_train.as_matrix()),self.data.y_train,self.output,append='_train')\n",
      "/home/felipe/hepML/MlClasses/Dnn.py:263: FutureWarning: Method .as_matrix will be removed in a future version. Use .values instead.\n",
      "  compareTrainTest(self.model.predict,self.data.X_train.as_matrix(),self.data.y_train.as_matrix(),\\\n",
      "/home/felipe/hepML/MlClasses/Dnn.py:264: FutureWarning: Method .as_matrix will be removed in a future version. Use .values instead.\n",
      "  self.data.X_test.as_matrix(),self.data.y_test.as_matrix(),self.output)\n",
      "/home/felipe/anaconda3/envs/tf-gpu/lib/python3.6/site-packages/matplotlib/axes/_axes.py:6521: MatplotlibDeprecationWarning: \n",
      "The 'normed' kwarg was deprecated in Matplotlib 2.1 and will be removed in 3.1. Use 'density' instead.\n",
      "  alternative=\"'density'\", removal=\"3.1\")\n",
      "/home/felipe/hepML/MlClasses/PerformanceTests.py:79: VisibleDeprecationWarning: Passing `normed=True` on non-uniform bins has always been broken, and computes neither the probability density function nor the probability mass function. The result is only correct if the bins are uniform, when density=True will produce the same result anyway. The argument will be removed in a future version of numpy.\n",
      "  bins=bins, range=low_high, normed=True)\n",
      "/home/felipe/hepML/MlClasses/PerformanceTests.py:88: VisibleDeprecationWarning: Passing `normed=True` on non-uniform bins has always been broken, and computes neither the probability density function nor the probability mass function. The result is only correct if the bins are uniform, when density=True will produce the same result anyway. The argument will be removed in a future version of numpy.\n",
      "  bins=bins, range=low_high, normed=True)\n"
     ]
    },
    {
     "name": "stdout",
     "output_type": "stream",
     "text": [
      "Train on 140000 samples, validate on 60000 samples\n",
      "Epoch 1/20\n",
      "140000/140000 [==============================] - 0s 1us/step - loss: 0.0010 - acc: 0.4997 - sigLoss: -978.1657 - significance: 31.2756 - asimovSignificance: 6.1691 - truePositive: 1.0000 - falsePositive: 1.0000 - val_loss: 0.0010 - val_acc: 0.5008 - val_sigLoss: -978.1657 - val_significance: 31.2756 - val_asimovSignificance: 6.1691 - val_truePositive: 1.0000 - val_falsePositive: 1.0000\n",
      "Epoch 2/20\n",
      "140000/140000 [==============================] - 0s 1us/step - loss: 0.0010 - acc: 0.4997 - sigLoss: -978.1657 - significance: 31.2756 - asimovSignificance: 6.1691 - truePositive: 1.0000 - falsePositive: 1.0000 - val_loss: 0.0010 - val_acc: 0.5008 - val_sigLoss: -978.1657 - val_significance: 31.2756 - val_asimovSignificance: 6.1691 - val_truePositive: 1.0000 - val_falsePositive: 1.0000\n",
      "Epoch 3/20\n",
      "  8192/140000 [>.............................] - ETA: 0s - loss: 0.0010 - acc: 0.4863 - sigLoss: -978.1657 - significance: 31.2756 - asimovSignificance: 6.1691 - truePositive: 1.0000 - falsePositive: 1.0000"
     ]
    },
    {
     "name": "stderr",
     "output_type": "stream",
     "text": [
      "/home/felipe/hepML/MlClasses/Dnn.py:101: FutureWarning: Method .as_matrix will be removed in a future version. Use .values instead.\n",
      "  self.history = self.model.fit(self.data.X_train.as_matrix(), self.data.y_train.as_matrix(), sample_weight=self.data.weights_train,\n",
      "/home/felipe/hepML/MlClasses/Dnn.py:102: FutureWarning: Method .as_matrix will be removed in a future version. Use .values instead.\n",
      "  validation_data=(self.data.X_test.as_matrix(),self.data.y_test.as_matrix(),self.data.weights_test),\n"
     ]
    },
    {
     "name": "stdout",
     "output_type": "stream",
     "text": [
      "140000/140000 [==============================] - 0s 1us/step - loss: 0.0010 - acc: 0.4997 - sigLoss: -978.1657 - significance: 31.2756 - asimovSignificance: 6.1691 - truePositive: 1.0000 - falsePositive: 1.0000 - val_loss: 0.0010 - val_acc: 0.5008 - val_sigLoss: -978.1657 - val_significance: 31.2756 - val_asimovSignificance: 6.1691 - val_truePositive: 1.0000 - val_falsePositive: 1.0000\n",
      "Epoch 4/20\n",
      "140000/140000 [==============================] - 0s 1us/step - loss: 0.0010 - acc: 0.4997 - sigLoss: -978.1657 - significance: 31.2756 - asimovSignificance: 6.1691 - truePositive: 1.0000 - falsePositive: 1.0000 - val_loss: 0.0010 - val_acc: 0.5008 - val_sigLoss: -978.1657 - val_significance: 31.2756 - val_asimovSignificance: 6.1691 - val_truePositive: 1.0000 - val_falsePositive: 1.0000\n",
      "Epoch 5/20\n",
      "140000/140000 [==============================] - 0s 1us/step - loss: 0.0010 - acc: 0.4997 - sigLoss: -978.1657 - significance: 31.2756 - asimovSignificance: 6.1691 - truePositive: 1.0000 - falsePositive: 1.0000 - val_loss: 0.0010 - val_acc: 0.5008 - val_sigLoss: -978.1657 - val_significance: 31.2756 - val_asimovSignificance: 6.1691 - val_truePositive: 1.0000 - val_falsePositive: 1.0000\n",
      "Epoch 6/20\n",
      "140000/140000 [==============================] - 0s 1us/step - loss: 0.0010 - acc: 0.4997 - sigLoss: -978.1657 - significance: 31.2756 - asimovSignificance: 6.1691 - truePositive: 1.0000 - falsePositive: 1.0000 - val_loss: 0.0010 - val_acc: 0.5008 - val_sigLoss: -978.1657 - val_significance: 31.2756 - val_asimovSignificance: 6.1691 - val_truePositive: 1.0000 - val_falsePositive: 1.0000\n",
      "60000/60000 [==============================] - 0s 0us/step\n"
     ]
    },
    {
     "name": "stderr",
     "output_type": "stream",
     "text": [
      "/home/felipe/hepML/MlClasses/Dnn.py:221: FutureWarning: Method .as_matrix will be removed in a future version. Use .values instead.\n",
      "  report = self.model.evaluate(X_test.as_matrix(), y_test.as_matrix(), sample_weight=weights_test, batch_size=batchSize)\n",
      "/home/felipe/hepML/MlClasses/Dnn.py:227: FutureWarning: Method .as_matrix will be removed in a future version. Use .values instead.\n",
      "  classificationReport(self.model.predict_classes(X_test.as_matrix()),self.model.predict(X_test.as_matrix()),y_test,f)\n"
     ]
    },
    {
     "name": "stdout",
     "output_type": "stream",
     "text": [
      "140000/140000 [==============================] - 0s 0us/step\n"
     ]
    },
    {
     "name": "stderr",
     "output_type": "stream",
     "text": [
      "/home/felipe/anaconda3/envs/tf-gpu/lib/python3.6/site-packages/sklearn/metrics/classification.py:1143: UndefinedMetricWarning: Precision and F-score are ill-defined and being set to 0.0 in labels with no predicted samples.\n",
      "  'precision', 'predicted', average, warn_for)\n",
      "/home/felipe/hepML/MlClasses/Dnn.py:232: FutureWarning: Method .as_matrix will be removed in a future version. Use .values instead.\n",
      "  report = self.model.evaluate(X_train.as_matrix(), y_train.as_matrix(), sample_weight=weights_train, batch_size=batchSize)\n",
      "/home/felipe/hepML/MlClasses/Dnn.py:236: FutureWarning: Method .as_matrix will be removed in a future version. Use .values instead.\n",
      "  classificationReport(self.model.predict_classes(X_train.as_matrix()),self.model.predict(X_train.as_matrix()),y_train,f)\n",
      "/home/felipe/anaconda3/envs/tf-gpu/lib/python3.6/site-packages/sklearn/metrics/classification.py:1143: UndefinedMetricWarning: Precision and F-score are ill-defined and being set to 0.0 in labels with no predicted samples.\n",
      "  'precision', 'predicted', average, warn_for)\n",
      "/home/felipe/hepML/MlClasses/Dnn.py:254: FutureWarning: Method .as_matrix will be removed in a future version. Use .values instead.\n",
      "  rocCurve(self.model.predict(self.data.X_test.as_matrix()), self.data.y_test,self.output)\n",
      "/home/felipe/hepML/MlClasses/Dnn.py:255: FutureWarning: Method .as_matrix will be removed in a future version. Use .values instead.\n",
      "  rocCurve(self.model.predict(self.data.X_train.as_matrix()),self.data.y_train,self.output,append='_train')\n",
      "/home/felipe/hepML/MlClasses/Dnn.py:263: FutureWarning: Method .as_matrix will be removed in a future version. Use .values instead.\n",
      "  compareTrainTest(self.model.predict,self.data.X_train.as_matrix(),self.data.y_train.as_matrix(),\\\n",
      "/home/felipe/hepML/MlClasses/Dnn.py:264: FutureWarning: Method .as_matrix will be removed in a future version. Use .values instead.\n",
      "  self.data.X_test.as_matrix(),self.data.y_test.as_matrix(),self.output)\n",
      "/home/felipe/anaconda3/envs/tf-gpu/lib/python3.6/site-packages/matplotlib/axes/_axes.py:6521: MatplotlibDeprecationWarning: \n",
      "The 'normed' kwarg was deprecated in Matplotlib 2.1 and will be removed in 3.1. Use 'density' instead.\n",
      "  alternative=\"'density'\", removal=\"3.1\")\n",
      "/home/felipe/hepML/MlClasses/PerformanceTests.py:79: VisibleDeprecationWarning: Passing `normed=True` on non-uniform bins has always been broken, and computes neither the probability density function nor the probability mass function. The result is only correct if the bins are uniform, when density=True will produce the same result anyway. The argument will be removed in a future version of numpy.\n",
      "  bins=bins, range=low_high, normed=True)\n",
      "/home/felipe/hepML/MlClasses/PerformanceTests.py:88: VisibleDeprecationWarning: Passing `normed=True` on non-uniform bins has always been broken, and computes neither the probability density function nor the probability mass function. The result is only correct if the bins are uniform, when density=True will produce the same result anyway. The argument will be removed in a future version of numpy.\n",
      "  bins=bins, range=low_high, normed=True)\n"
     ]
    },
    {
     "name": "stdout",
     "output_type": "stream",
     "text": [
      "Train on 140000 samples, validate on 60000 samples\n",
      "Epoch 1/20\n",
      "140000/140000 [==============================] - 0s 1us/step - loss: 0.0010 - acc: 0.4997 - sigLoss: -978.1657 - significance: 31.2756 - asimovSignificance: 6.1691 - truePositive: 1.0000 - falsePositive: 1.0000 - val_loss: 0.0010 - val_acc: 0.5008 - val_sigLoss: -978.1656 - val_significance: 31.2756 - val_asimovSignificance: 6.1691 - val_truePositive: 1.0000 - val_falsePositive: 1.0000\n",
      "Epoch 2/20\n",
      "140000/140000 [==============================] - 0s 1us/step - loss: 0.0010 - acc: 0.4997 - sigLoss: -978.1657 - significance: 31.2756 - asimovSignificance: 6.1691 - truePositive: 1.0000 - falsePositive: 1.0000 - val_loss: 0.0010 - val_acc: 0.5008 - val_sigLoss: -978.1656 - val_significance: 31.2756 - val_asimovSignificance: 6.1691 - val_truePositive: 1.0000 - val_falsePositive: 1.0000\n",
      "Epoch 3/20\n",
      " 16384/140000 [==>...........................] - ETA: 0s - loss: 0.0010 - acc: 0.5047 - sigLoss: -978.1657 - significance: 31.2756 - asimovSignificance: 6.1691 - truePositive: 1.0000 - falsePositive: 1.0000"
     ]
    },
    {
     "name": "stderr",
     "output_type": "stream",
     "text": [
      "/home/felipe/hepML/MlClasses/Dnn.py:101: FutureWarning: Method .as_matrix will be removed in a future version. Use .values instead.\n",
      "  self.history = self.model.fit(self.data.X_train.as_matrix(), self.data.y_train.as_matrix(), sample_weight=self.data.weights_train,\n",
      "/home/felipe/hepML/MlClasses/Dnn.py:102: FutureWarning: Method .as_matrix will be removed in a future version. Use .values instead.\n",
      "  validation_data=(self.data.X_test.as_matrix(),self.data.y_test.as_matrix(),self.data.weights_test),\n"
     ]
    },
    {
     "name": "stdout",
     "output_type": "stream",
     "text": [
      "140000/140000 [==============================] - 0s 1us/step - loss: 0.0010 - acc: 0.4997 - sigLoss: -978.1657 - significance: 31.2756 - asimovSignificance: 6.1691 - truePositive: 1.0000 - falsePositive: 1.0000 - val_loss: 0.0010 - val_acc: 0.5008 - val_sigLoss: -978.1656 - val_significance: 31.2756 - val_asimovSignificance: 6.1691 - val_truePositive: 1.0000 - val_falsePositive: 1.0000\n",
      "Epoch 4/20\n",
      "140000/140000 [==============================] - 0s 0us/step - loss: 0.0010 - acc: 0.4997 - sigLoss: -978.1657 - significance: 31.2756 - asimovSignificance: 6.1691 - truePositive: 1.0000 - falsePositive: 1.0000 - val_loss: 0.0010 - val_acc: 0.5008 - val_sigLoss: -978.1656 - val_significance: 31.2756 - val_asimovSignificance: 6.1691 - val_truePositive: 1.0000 - val_falsePositive: 1.0000\n",
      "Epoch 5/20\n",
      "140000/140000 [==============================] - 0s 0us/step - loss: 0.0010 - acc: 0.4997 - sigLoss: -978.1656 - significance: 31.2756 - asimovSignificance: 6.1691 - truePositive: 1.0000 - falsePositive: 1.0000 - val_loss: 0.0010 - val_acc: 0.5008 - val_sigLoss: -978.1656 - val_significance: 31.2756 - val_asimovSignificance: 6.1691 - val_truePositive: 1.0000 - val_falsePositive: 1.0000\n",
      "Epoch 6/20\n",
      "140000/140000 [==============================] - 0s 0us/step - loss: 0.0010 - acc: 0.4997 - sigLoss: -978.1657 - significance: 31.2756 - asimovSignificance: 6.1691 - truePositive: 1.0000 - falsePositive: 1.0000 - val_loss: 0.0010 - val_acc: 0.5008 - val_sigLoss: -978.1656 - val_significance: 31.2756 - val_asimovSignificance: 6.1691 - val_truePositive: 1.0000 - val_falsePositive: 1.0000\n",
      "60000/60000 [==============================] - 0s 0us/step\n"
     ]
    },
    {
     "name": "stderr",
     "output_type": "stream",
     "text": [
      "/home/felipe/hepML/MlClasses/Dnn.py:221: FutureWarning: Method .as_matrix will be removed in a future version. Use .values instead.\n",
      "  report = self.model.evaluate(X_test.as_matrix(), y_test.as_matrix(), sample_weight=weights_test, batch_size=batchSize)\n",
      "/home/felipe/hepML/MlClasses/Dnn.py:227: FutureWarning: Method .as_matrix will be removed in a future version. Use .values instead.\n",
      "  classificationReport(self.model.predict_classes(X_test.as_matrix()),self.model.predict(X_test.as_matrix()),y_test,f)\n"
     ]
    },
    {
     "name": "stdout",
     "output_type": "stream",
     "text": [
      "140000/140000 [==============================] - 0s 0us/step\n"
     ]
    },
    {
     "name": "stderr",
     "output_type": "stream",
     "text": [
      "/home/felipe/anaconda3/envs/tf-gpu/lib/python3.6/site-packages/sklearn/metrics/classification.py:1143: UndefinedMetricWarning: Precision and F-score are ill-defined and being set to 0.0 in labels with no predicted samples.\n",
      "  'precision', 'predicted', average, warn_for)\n",
      "/home/felipe/hepML/MlClasses/Dnn.py:232: FutureWarning: Method .as_matrix will be removed in a future version. Use .values instead.\n",
      "  report = self.model.evaluate(X_train.as_matrix(), y_train.as_matrix(), sample_weight=weights_train, batch_size=batchSize)\n",
      "/home/felipe/hepML/MlClasses/Dnn.py:236: FutureWarning: Method .as_matrix will be removed in a future version. Use .values instead.\n",
      "  classificationReport(self.model.predict_classes(X_train.as_matrix()),self.model.predict(X_train.as_matrix()),y_train,f)\n",
      "/home/felipe/anaconda3/envs/tf-gpu/lib/python3.6/site-packages/sklearn/metrics/classification.py:1143: UndefinedMetricWarning: Precision and F-score are ill-defined and being set to 0.0 in labels with no predicted samples.\n",
      "  'precision', 'predicted', average, warn_for)\n",
      "/home/felipe/hepML/MlClasses/Dnn.py:254: FutureWarning: Method .as_matrix will be removed in a future version. Use .values instead.\n",
      "  rocCurve(self.model.predict(self.data.X_test.as_matrix()), self.data.y_test,self.output)\n",
      "/home/felipe/hepML/MlClasses/Dnn.py:255: FutureWarning: Method .as_matrix will be removed in a future version. Use .values instead.\n",
      "  rocCurve(self.model.predict(self.data.X_train.as_matrix()),self.data.y_train,self.output,append='_train')\n",
      "/home/felipe/hepML/MlClasses/Dnn.py:263: FutureWarning: Method .as_matrix will be removed in a future version. Use .values instead.\n",
      "  compareTrainTest(self.model.predict,self.data.X_train.as_matrix(),self.data.y_train.as_matrix(),\\\n",
      "/home/felipe/hepML/MlClasses/Dnn.py:264: FutureWarning: Method .as_matrix will be removed in a future version. Use .values instead.\n",
      "  self.data.X_test.as_matrix(),self.data.y_test.as_matrix(),self.output)\n",
      "/home/felipe/anaconda3/envs/tf-gpu/lib/python3.6/site-packages/matplotlib/axes/_axes.py:6521: MatplotlibDeprecationWarning: \n",
      "The 'normed' kwarg was deprecated in Matplotlib 2.1 and will be removed in 3.1. Use 'density' instead.\n",
      "  alternative=\"'density'\", removal=\"3.1\")\n",
      "/home/felipe/hepML/MlClasses/PerformanceTests.py:79: VisibleDeprecationWarning: Passing `normed=True` on non-uniform bins has always been broken, and computes neither the probability density function nor the probability mass function. The result is only correct if the bins are uniform, when density=True will produce the same result anyway. The argument will be removed in a future version of numpy.\n",
      "  bins=bins, range=low_high, normed=True)\n",
      "/home/felipe/hepML/MlClasses/PerformanceTests.py:88: VisibleDeprecationWarning: Passing `normed=True` on non-uniform bins has always been broken, and computes neither the probability density function nor the probability mass function. The result is only correct if the bins are uniform, when density=True will produce the same result anyway. The argument will be removed in a future version of numpy.\n",
      "  bins=bins, range=low_high, normed=True)\n"
     ]
    },
    {
     "name": "stdout",
     "output_type": "stream",
     "text": [
      "60000/60000 [==============================] - 0s 0us/step\n"
     ]
    },
    {
     "name": "stderr",
     "output_type": "stream",
     "text": [
      "/home/felipe/hepML/MlClasses/Dnn.py:221: FutureWarning: Method .as_matrix will be removed in a future version. Use .values instead.\n",
      "  report = self.model.evaluate(X_test.as_matrix(), y_test.as_matrix(), sample_weight=weights_test, batch_size=batchSize)\n",
      "/home/felipe/hepML/MlClasses/Dnn.py:227: FutureWarning: Method .as_matrix will be removed in a future version. Use .values instead.\n",
      "  classificationReport(self.model.predict_classes(X_test.as_matrix()),self.model.predict(X_test.as_matrix()),y_test,f)\n"
     ]
    },
    {
     "name": "stdout",
     "output_type": "stream",
     "text": [
      "140000/140000 [==============================] - 0s 0us/step\n"
     ]
    },
    {
     "name": "stderr",
     "output_type": "stream",
     "text": [
      "/home/felipe/anaconda3/envs/tf-gpu/lib/python3.6/site-packages/sklearn/metrics/classification.py:1143: UndefinedMetricWarning: Precision and F-score are ill-defined and being set to 0.0 in labels with no predicted samples.\n",
      "  'precision', 'predicted', average, warn_for)\n",
      "/home/felipe/hepML/MlClasses/Dnn.py:232: FutureWarning: Method .as_matrix will be removed in a future version. Use .values instead.\n",
      "  report = self.model.evaluate(X_train.as_matrix(), y_train.as_matrix(), sample_weight=weights_train, batch_size=batchSize)\n",
      "/home/felipe/hepML/MlClasses/Dnn.py:236: FutureWarning: Method .as_matrix will be removed in a future version. Use .values instead.\n",
      "  classificationReport(self.model.predict_classes(X_train.as_matrix()),self.model.predict(X_train.as_matrix()),y_train,f)\n",
      "/home/felipe/anaconda3/envs/tf-gpu/lib/python3.6/site-packages/sklearn/metrics/classification.py:1143: UndefinedMetricWarning: Precision and F-score are ill-defined and being set to 0.0 in labels with no predicted samples.\n",
      "  'precision', 'predicted', average, warn_for)\n",
      "/home/felipe/hepML/MlClasses/Dnn.py:254: FutureWarning: Method .as_matrix will be removed in a future version. Use .values instead.\n",
      "  rocCurve(self.model.predict(self.data.X_test.as_matrix()), self.data.y_test,self.output)\n",
      "/home/felipe/hepML/MlClasses/Dnn.py:255: FutureWarning: Method .as_matrix will be removed in a future version. Use .values instead.\n",
      "  rocCurve(self.model.predict(self.data.X_train.as_matrix()),self.data.y_train,self.output,append='_train')\n",
      "/home/felipe/hepML/MlClasses/Dnn.py:263: FutureWarning: Method .as_matrix will be removed in a future version. Use .values instead.\n",
      "  compareTrainTest(self.model.predict,self.data.X_train.as_matrix(),self.data.y_train.as_matrix(),\\\n",
      "/home/felipe/hepML/MlClasses/Dnn.py:264: FutureWarning: Method .as_matrix will be removed in a future version. Use .values instead.\n",
      "  self.data.X_test.as_matrix(),self.data.y_test.as_matrix(),self.output)\n",
      "/home/felipe/anaconda3/envs/tf-gpu/lib/python3.6/site-packages/matplotlib/axes/_axes.py:6521: MatplotlibDeprecationWarning: \n",
      "The 'normed' kwarg was deprecated in Matplotlib 2.1 and will be removed in 3.1. Use 'density' instead.\n",
      "  alternative=\"'density'\", removal=\"3.1\")\n",
      "/home/felipe/hepML/MlClasses/PerformanceTests.py:79: VisibleDeprecationWarning: Passing `normed=True` on non-uniform bins has always been broken, and computes neither the probability density function nor the probability mass function. The result is only correct if the bins are uniform, when density=True will produce the same result anyway. The argument will be removed in a future version of numpy.\n",
      "  bins=bins, range=low_high, normed=True)\n",
      "/home/felipe/hepML/MlClasses/PerformanceTests.py:88: VisibleDeprecationWarning: Passing `normed=True` on non-uniform bins has always been broken, and computes neither the probability density function nor the probability mass function. The result is only correct if the bins are uniform, when density=True will produce the same result anyway. The argument will be removed in a future version of numpy.\n",
      "  bins=bins, range=low_high, normed=True)\n",
      "/home/felipe/hepML/MlClasses/Dnn.py:368: FutureWarning: Method .as_matrix will be removed in a future version. Use .values instead.\n",
      "  return self.model.predict(self.data.X_test.as_matrix())\n",
      "/home/felipe/hepML/MlClasses/Dnn.py:405: FutureWarning: Method .as_matrix will be removed in a future version. Use .values instead.\n",
      "  dataTest['truth']=self.data.y_test.as_matrix()\n"
     ]
    },
    {
     "ename": "TypeError",
     "evalue": "'float' object is not iterable",
     "output_type": "error",
     "traceback": [
      "\u001b[0;31m---------------------------------------------------------------------------\u001b[0m",
      "\u001b[0;31mTypeError\u001b[0m                                 Traceback (most recent call last)",
      "\u001b[0;32m<ipython-input-14-0515fc44d997>\u001b[0m in \u001b[0;36m<module>\u001b[0;34m\u001b[0m\n\u001b[1;32m     39\u001b[0m \u001b[0;34m\u001b[0m\u001b[0m\n\u001b[1;32m     40\u001b[0m         \u001b[0mdnn\u001b[0m\u001b[0;34m.\u001b[0m\u001b[0mdiagnostics\u001b[0m\u001b[0;34m(\u001b[0m\u001b[0mbatchSize\u001b[0m\u001b[0;34m=\u001b[0m\u001b[0;36m4096\u001b[0m\u001b[0;34m)\u001b[0m\u001b[0;34m\u001b[0m\u001b[0;34m\u001b[0m\u001b[0m\n\u001b[0;32m---> 41\u001b[0;31m         \u001b[0mdnn\u001b[0m\u001b[0;34m.\u001b[0m\u001b[0mmakeHepPlots\u001b[0m\u001b[0;34m(\u001b[0m\u001b[0mexpectedSignal\u001b[0m\u001b[0;34m,\u001b[0m\u001b[0mexpectedBkgd\u001b[0m\u001b[0;34m,\u001b[0m\u001b[0msystematic\u001b[0m\u001b[0;34m,\u001b[0m\u001b[0mmakeHistograms\u001b[0m\u001b[0;34m=\u001b[0m\u001b[0;32mFalse\u001b[0m\u001b[0;34m)\u001b[0m\u001b[0;34m\u001b[0m\u001b[0;34m\u001b[0m\u001b[0m\n\u001b[0m\u001b[1;32m     42\u001b[0m \u001b[0;34m\u001b[0m\u001b[0m\n\u001b[1;32m     43\u001b[0m         \u001b[0mtrainedModels\u001b[0m\u001b[0;34m[\u001b[0m\u001b[0mvarSetName\u001b[0m\u001b[0;34m+\u001b[0m\u001b[0;34m'_variableBatchSigLossInvert_'\u001b[0m\u001b[0;34m+\u001b[0m\u001b[0mname\u001b[0m\u001b[0;34m]\u001b[0m\u001b[0;34m=\u001b[0m\u001b[0mdnn\u001b[0m\u001b[0;34m\u001b[0m\u001b[0;34m\u001b[0m\u001b[0m\n",
      "\u001b[0;32m~/hepML/MlClasses/Dnn.py\u001b[0m in \u001b[0;36mmakeHepPlots\u001b[0;34m(self, expectedSignal, expectedBackground, systematics, makeHistograms, subDir, customPrediction)\u001b[0m\n\u001b[1;32m    448\u001b[0m         \u001b[0mplt\u001b[0m\u001b[0;34m.\u001b[0m\u001b[0mclf\u001b[0m\u001b[0;34m(\u001b[0m\u001b[0;34m)\u001b[0m\u001b[0;34m\u001b[0m\u001b[0;34m\u001b[0m\u001b[0m\n\u001b[1;32m    449\u001b[0m \u001b[0;34m\u001b[0m\u001b[0m\n\u001b[0;32m--> 450\u001b[0;31m         \u001b[0;32mfor\u001b[0m \u001b[0msystematic\u001b[0m \u001b[0;32min\u001b[0m \u001b[0msystematics\u001b[0m\u001b[0;34m:\u001b[0m\u001b[0;34m\u001b[0m\u001b[0;34m\u001b[0m\u001b[0m\n\u001b[0m\u001b[1;32m    451\u001b[0m             \u001b[0;31m# sigB=systematic*b\u001b[0m\u001b[0;34m\u001b[0m\u001b[0;34m\u001b[0m\u001b[0;34m\u001b[0m\u001b[0m\n\u001b[1;32m    452\u001b[0m             \u001b[0;31m#\u001b[0m\u001b[0;34m\u001b[0m\u001b[0;34m\u001b[0m\u001b[0;34m\u001b[0m\u001b[0m\n",
      "\u001b[0;31mTypeError\u001b[0m: 'float' object is not iterable"
     ]
    }
   ],
   "source": [
    "# I'm only running the DNN with binary cross entropy, letter I will include the other options.\n",
    "# so far it running perfect, I'm testing with their custom loss function.\n",
    "for varSetName,varSet in chosenVars.items():\n",
    "    #Pick out the expanded arrays\n",
    "    columnsInDataFrame = []\n",
    "    for k in combined.keys():\n",
    "        for v in varSet:\n",
    "            #Little trick to ensure only the start of the string is checked\n",
    "            if varSetName is '0L':\n",
    "                if ' '+v+' ' in ' '+k+' ': columnsInDataFrame.append(k)\n",
    "            elif ' '+v in ' '+k: columnsInDataFrame.append(k)\n",
    "\n",
    "\n",
    "    #Select just the features we're interested in\n",
    "    #For now setting NaNs to 0 for compatibility\n",
    "    combinedToRun = combined[columnsInDataFrame].copy()\n",
    "    combinedToRun.fillna(0,inplace=True)\n",
    "    \n",
    "    combinedToRun.index = np.arange(0,200000)\n",
    "    mlData = MlData(combinedToRun,'signal')\n",
    "\n",
    "    mlData.prepare(evalSize=0.0,testSize=0.3,limitSize=None)\n",
    "\n",
    "    for name,config in dnnConfigs.items():\n",
    "        dnn = Dnn(mlData,'testPlots/mlPlots/variableBatchSigLossInvert/0L'+varSetName+'/'+name)\n",
    "\n",
    "        dnn.setup(hiddenLayers=config['hiddenLayers'],dropOut=config['dropOut'],\n",
    "                  l2Regularization=config['l2Regularization'],\n",
    "                loss=significanceLossInvert(expectedSignal,expectedBkgd),\n",
    "                extraMetrics=[\n",
    "                    significanceLoss(expectedSignal,expectedBkgd),significanceFull(expectedSignal,expectedBkgd),\n",
    "                    asimovSignificanceFull(expectedSignal,expectedBkgd,systematic),truePositive,falsePositive\n",
    "                ])\n",
    "\n",
    "\n",
    "        for batch_size in [128,512,1024,2048,4096,8192,16384]:\n",
    "            dnn.fit(epochs=20,batch_size=batch_size,callbacks=[earlyStopping])\n",
    "            dnn.diagnostics(batchSize=4096,subDir='batchSize'+str(batch_size))\n",
    "\n",
    "        dnn.diagnostics(batchSize=4096)\n",
    "        dnn.makeHepPlots(expectedSignal,expectedBkgd,systematic,makeHistograms=False)\n",
    "\n",
    "        trainedModels[varSetName+'_variableBatchSigLossInvert_'+name]=dnn\n"
   ]
  },
  {
   "cell_type": "code",
   "execution_count": null,
   "metadata": {},
   "outputs": [],
   "source": []
  }
 ],
 "metadata": {
  "kernelspec": {
   "display_name": "TensorFlow-GPU",
   "language": "python",
   "name": "tf-gpu"
  },
  "language_info": {
   "codemirror_mode": {
    "name": "ipython",
    "version": 3
   },
   "file_extension": ".py",
   "mimetype": "text/x-python",
   "name": "python",
   "nbconvert_exporter": "python",
   "pygments_lexer": "ipython3",
   "version": "3.6.8"
  }
 },
 "nbformat": 4,
 "nbformat_minor": 2
}
